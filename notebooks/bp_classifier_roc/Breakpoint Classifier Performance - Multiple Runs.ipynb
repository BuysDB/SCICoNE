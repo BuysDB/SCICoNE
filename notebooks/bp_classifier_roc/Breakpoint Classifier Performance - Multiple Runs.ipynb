{
 "cells": [
  {
   "cell_type": "code",
   "execution_count": 1,
   "metadata": {},
   "outputs": [],
   "source": [
    "import pandas as pd\n",
    "import numpy as np\n",
    "from collections import Counter\n",
    "from sklearn.metrics import roc_curve, auc\n",
    "import matplotlib.pyplot as plt\n",
    "%matplotlib inline"
   ]
  },
  {
   "cell_type": "code",
   "execution_count": 2,
   "metadata": {},
   "outputs": [],
   "source": [
    "n_rep = 100\n",
    "n_bins = 1000\n",
    "n_nodes = 10\n",
    "n_regions = 40\n",
    "n_reads = 10000\n",
    "PATH = '../../workflows/bp_detection_performance/results/'"
   ]
  },
  {
   "cell_type": "code",
   "execution_count": 3,
   "metadata": {},
   "outputs": [],
   "source": [
    "gt_files = [PATH + str(n_nodes)+'nodes_'+str(n_regions)+'regions_'+str(n_reads) \\\n",
    "             +'reads_simdata_'+str(x)+'_effective_regions.txt' for x in range(0,n_rep)]\n",
    "bps_files = [PATH + 'simdata_'+str(x)+'_all_bps_comparison.csv' for x in range(0,n_rep)]\n",
    "all_bins = range(0,n_bins)"
   ]
  },
  {
   "cell_type": "code",
   "execution_count": 15,
   "metadata": {},
   "outputs": [
    {
     "data": {
      "text/plain": [
       "range(0, 1000)"
      ]
     },
     "execution_count": 15,
     "metadata": {},
     "output_type": "execute_result"
    }
   ],
   "source": [
    "all_bins"
   ]
  },
  {
   "cell_type": "code",
   "execution_count": 35,
   "metadata": {},
   "outputs": [],
   "source": [
    "all_tpr = []\n",
    "all_fpr = []\n",
    "for gt_file, bps_file in zip(gt_files, bps_files):\n",
    "    bps = pd.read_csv(bps_file, header=None)\n",
    "    bps.columns = ['idx','log_sp','stdev']\n",
    "    bps['ranking'] = bps['log_sp'] / bps['stdev']\n",
    "    # bps = bps.sort_values('ranking',ascending=False)\n",
    "    bps = bps.dropna()\n",
    "    ground_truth = pd.read_csv(gt_file,header=None)\n",
    "    ground_truth = ground_truth[0].values.tolist()\n",
    "    threshold_coeffs = sorted(bps['ranking'].values)\n",
    "    # Each breakpoint candidate has a different stdev value.\n",
    "    # The ROC computations takes that into account.tpr_values = []\n",
    "    tpr_values = []\n",
    "    fpr_values = []\n",
    "    for thr in threshold_coeffs:\n",
    "        predicted_positives = []\n",
    "        predicted_negatives = []\n",
    "        for index, row in bps.iterrows():\n",
    "            if row['ranking'] > thr:\n",
    "                predicted_positives.append(row['idx'])\n",
    "            else:\n",
    "                break \n",
    "                \n",
    "        #import ipdb; ipdb.set_trace()\n",
    "        predicted_negatives = [i for i in all_bins if i not in predicted_positives]\n",
    "\n",
    "        true_positives = [i for i in predicted_positives if i in ground_truth]\n",
    "        false_positives = [i for i in predicted_positives if i not in ground_truth]\n",
    "\n",
    "        true_negatives = [i for i in predicted_negatives if i not in ground_truth]\n",
    "        false_negatives = [i for i in predicted_negatives if i in ground_truth]\n",
    "\n",
    "        # import ipdb; ipdb.set_trace()\n",
    "        assert(len(ground_truth) == (len(true_positives) + len(false_negatives)))\n",
    "        tpr = len(true_positives) / len(ground_truth) # len(ground_truth)\n",
    "        fpr = len(false_positives) / (1000 - len(ground_truth)) # (len(false_positives) + len(true_negatives))\n",
    "        tpr_values.append(tpr)\n",
    "        fpr_values.append(fpr)\n",
    "    \n",
    "    all_tpr.append(tpr_values)\n",
    "    all_fpr.append(fpr_values)"
   ]
  },
  {
   "cell_type": "code",
   "execution_count": 36,
   "metadata": {},
   "outputs": [
    {
     "data": {
      "image/png": "[encoded data removed]",
      "text/plain": [
       "<Figure size 576x576 with 1 Axes>"
      ]
     },
     "metadata": {},
     "output_type": "display_data"
    }
   ],
   "source": [
    "auc_vals = []\n",
    "plt.figure(figsize=(8,8))\n",
    "for tpr_values, fpr_values in zip(all_tpr, all_fpr):\n",
    "    roc_auc = auc(fpr_values, tpr_values)\n",
    "    auc_vals.append(roc_auc)\n",
    "    plt.plot(fpr_values, tpr_values) # label='ROC curve (area = %0.2f)' % roc_auc)\n",
    "plt.plot([0, 1], [0, 1], color='navy', linestyle='--')\n",
    "plt.gca().set_aspect('equal', adjustable='box')\n",
    "plt.grid(True)\n",
    "plt.xlabel('False Positive Rate')\n",
    "plt.ylabel('True Positive Rate')\n",
    "plt.title('Receiver operating characteristic')\n",
    "# plt.legend(loc=\"lower right\")\n",
    "plt.show()"
   ]
  },
  {
   "cell_type": "code",
   "execution_count": 22,
   "metadata": {},
   "outputs": [
    {
     "data": {
      "text/html": [
       "<div>\n",
       "<style scoped>\n",
       "    .dataframe tbody tr th:only-of-type {\n",
       "        vertical-align: middle;\n",
       "    }\n",
       "\n",
       "    .dataframe tbody tr th {\n",
       "        vertical-align: top;\n",
       "    }\n",
       "\n",
       "    .dataframe thead th {\n",
       "        text-align: right;\n",
       "    }\n",
       "</style>\n",
       "<table border=\"1\" class=\"dataframe\">\n",
       "  <thead>\n",
       "    <tr style=\"text-align: right;\">\n",
       "      <th></th>\n",
       "      <th>AUC</th>\n",
       "    </tr>\n",
       "  </thead>\n",
       "  <tbody>\n",
       "    <tr>\n",
       "      <th>count</th>\n",
       "      <td>100.000000</td>\n",
       "    </tr>\n",
       "    <tr>\n",
       "      <th>mean</th>\n",
       "      <td>0.057471</td>\n",
       "    </tr>\n",
       "    <tr>\n",
       "      <th>std</th>\n",
       "      <td>0.016147</td>\n",
       "    </tr>\n",
       "    <tr>\n",
       "      <th>min</th>\n",
       "      <td>0.015808</td>\n",
       "    </tr>\n",
       "    <tr>\n",
       "      <th>25%</th>\n",
       "      <td>0.046684</td>\n",
       "    </tr>\n",
       "    <tr>\n",
       "      <th>50%</th>\n",
       "      <td>0.059670</td>\n",
       "    </tr>\n",
       "    <tr>\n",
       "      <th>75%</th>\n",
       "      <td>0.067477</td>\n",
       "    </tr>\n",
       "    <tr>\n",
       "      <th>max</th>\n",
       "      <td>0.096367</td>\n",
       "    </tr>\n",
       "  </tbody>\n",
       "</table>\n",
       "</div>"
      ],
      "text/plain": [
       "              AUC\n",
       "count  100.000000\n",
       "mean     0.057471\n",
       "std      0.016147\n",
       "min      0.015808\n",
       "25%      0.046684\n",
       "50%      0.059670\n",
       "75%      0.067477\n",
       "max      0.096367"
      ]
     },
     "execution_count": 22,
     "metadata": {},
     "output_type": "execute_result"
    }
   ],
   "source": [
    "pd.DataFrame(auc_vals, columns=['AUC']).describe()"
   ]
  },
  {
   "cell_type": "code",
   "execution_count": null,
   "metadata": {},
   "outputs": [],
   "source": []
  }
 ],
 "metadata": {
  "kernelspec": {
   "display_name": "Python 3",
   "language": "python",
   "name": "python3"
  },
  "language_info": {
   "codemirror_mode": {
    "name": "ipython",
    "version": 3
   },
   "file_extension": ".py",
   "mimetype": "text/x-python",
   "name": "python",
   "nbconvert_exporter": "python",
   "pygments_lexer": "ipython3",
   "version": "3.6.3"
  },
  "varInspector": {
   "cols": {
    "lenName": 16,
    "lenType": 16,
    "lenVar": 40
   },
   "kernels_config": {
    "python": {
     "delete_cmd_postfix": "",
     "delete_cmd_prefix": "del ",
     "library": "var_list.py",
     "varRefreshCmd": "print(var_dic_list())"
    },
    "r": {
     "delete_cmd_postfix": ") ",
     "delete_cmd_prefix": "rm(",
     "library": "var_list.r",
     "varRefreshCmd": "cat(var_dic_list()) "
    }
   },
   "types_to_exclude": [
    "module",
    "function",
    "builtin_function_or_method",
    "instance",
    "_Feature"
   ],
   "window_display": false
  }
 },
 "nbformat": 4,
 "nbformat_minor": 2
}
