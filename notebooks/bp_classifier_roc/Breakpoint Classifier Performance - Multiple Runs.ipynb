{
 "cells": [
  {
   "cell_type": "code",
   "execution_count": 1,
   "metadata": {},
   "outputs": [],
   "source": [
    "import pandas as pd\n",
    "import numpy as np\n",
    "from collections import Counter\n",
    "from sklearn.metrics import roc_curve, auc\n",
    "import seaborn as sns\n",
    "import matplotlib.pyplot as plt\n",
    "import matplotlib.ticker as ticker\n",
    "%matplotlib inline\n",
    "from tqdm import tqdm_notebook as tqdm\n",
    "sns.set(rc={'figure.figsize':(15.7,8.27)})"
   ]
  },
  {
   "cell_type": "code",
   "execution_count": 2,
   "metadata": {},
   "outputs": [],
   "source": [
    "n_rep = 100\n",
    "n_bins = 1000\n",
    "n_nodes = 10\n",
    "n_regions = 40\n",
    "n_reads = 10000\n",
    "PATH = '../../workflows/bp_detection_performance/results/'"
   ]
  },
  {
   "cell_type": "code",
   "execution_count": 3,
   "metadata": {},
   "outputs": [],
   "source": [
    "gt_files = [PATH + str(n_nodes)+'nodes_'+str(n_regions)+'regions_'+str(n_reads) \\\n",
    "             +'reads_simdata_'+str(x)+'_ground_truth.txt' for x in range(0,n_rep)]\n",
    "bps_files = [PATH + 'simdata_'+str(x)+'_all_bps_comparison.csv' for x in range(0,n_rep)]\n",
    "all_bins = range(0,n_bins)"
   ]
  },
  {
   "cell_type": "code",
   "execution_count": null,
   "metadata": {},
   "outputs": [
    {
     "data": {
      "text/plain": [
       "range(0, 1000)"
      ]
     },
     "execution_count": 4,
     "metadata": {},
     "output_type": "execute_result"
    }
   ],
   "source": [
    "all_bins"
   ]
  },
  {
   "cell_type": "code",
   "execution_count": null,
   "metadata": {},
   "outputs": [
    {
     "data": {
      "application/vnd.jupyter.widget-view+json": {
       "model_id": "c5ac4f2edeb545279c5931945ab71287",
       "version_major": 2,
       "version_minor": 0
      },
      "text/plain": [
       "A Jupyter Widget"
      ]
     },
     "metadata": {},
     "output_type": "display_data"
    },
    {
     "name": "stdout",
     "output_type": "stream",
     "text": [
      "correcting 652->651\n",
      "correcting 206->207\n",
      "correcting 526->525\n",
      "correcting 762->761\n",
      "correcting 881->880\n",
      "correcting 366->365\n",
      "correcting 644->645\n",
      "correcting 888->889\n",
      "correcting 598->597\n",
      "correcting 674->673\n",
      "correcting 803->804\n",
      "correcting 628->629\n",
      "correcting 446->447\n",
      "correcting 206->207\n",
      "correcting 441->440\n",
      "correcting 912->913\n",
      "correcting 871->869\n",
      "correcting 198->199\n",
      "correcting 926->927\n",
      "correcting 390->391\n",
      "correcting 187->189\n",
      "correcting 138->137\n",
      "correcting 648->647\n",
      "correcting 485->484\n",
      "correcting 504->505\n",
      "correcting 521->520\n",
      "correcting 577->579\n",
      "correcting 617->616\n",
      "correcting 328->330\n",
      "correcting 264->263\n",
      "correcting 902->903\n",
      "correcting 878->876\n",
      "correcting 558->559\n",
      "correcting 14->13\n",
      "correcting 374->373\n",
      "correcting 837->838\n",
      "correcting 749->748\n",
      "correcting 741->740\n",
      "correcting 227->226\n",
      "correcting 171->172\n",
      "correcting 191->192\n",
      "correcting 286->287\n",
      "correcting 793->791\n",
      "correcting 354->355\n",
      "correcting 960->958\n",
      "correcting 114->115\n",
      "correcting 268->266\n",
      "correcting 500->501\n",
      "correcting 164->165\n",
      "correcting 225->224\n",
      "correcting 388->387\n",
      "correcting 539->538\n",
      "correcting 749->748\n",
      "correcting 471->472\n",
      "correcting 373->374\n",
      "correcting 762->761\n",
      "correcting 157->159\n",
      "correcting 463->465\n",
      "correcting 409->411\n",
      "correcting 821->822\n",
      "correcting 809->810\n",
      "correcting 912->913\n",
      "correcting 279->281\n",
      "correcting 677->676\n",
      "correcting 175->174\n",
      "correcting 20->21\n",
      "correcting 32->31\n",
      "correcting 969->967\n",
      "correcting 163->164\n",
      "correcting 898->896\n",
      "correcting 558->559\n",
      "correcting 220->222\n",
      "correcting 787->788\n",
      "correcting 150->149\n",
      "correcting 711->709\n",
      "correcting 679->678\n",
      "correcting 581->580\n",
      "correcting 335->334\n",
      "correcting 907->909\n",
      "correcting 714->713\n",
      "correcting 772->773\n",
      "correcting 262->263\n",
      "correcting 280->281\n",
      "correcting 150->149\n",
      "correcting 736->737\n",
      "correcting 417->415\n",
      "correcting 159->160\n",
      "correcting 675->677\n",
      "correcting 159->161\n",
      "correcting 139->137\n",
      "correcting 504->503\n",
      "correcting 66->67\n",
      "correcting 818->817\n",
      "correcting 620->622\n",
      "correcting 606->604\n",
      "correcting 248->249\n",
      "correcting 251->253\n",
      "correcting 692->691\n",
      "correcting 163->162\n",
      "correcting 227->226\n",
      "correcting 831->832\n",
      "correcting 265->266\n",
      "correcting 445->444\n",
      "correcting 551->553\n",
      "correcting 128->127\n",
      "correcting 577->576\n",
      "correcting 457->458\n",
      "correcting 365->364\n",
      "correcting 93->94\n",
      "correcting 362->361\n",
      "correcting 339->340\n",
      "correcting 134->132\n",
      "correcting 489->488\n",
      "correcting 329->331\n",
      "correcting 83->82\n",
      "correcting 803->802\n",
      "correcting 714->715\n",
      "correcting 382->381\n",
      "correcting 769->768\n",
      "correcting 823->821\n",
      "correcting 886->887\n",
      "correcting 694->695\n",
      "correcting 276->277\n",
      "correcting 540->539\n",
      "correcting 205->206\n",
      "correcting 571->570\n",
      "correcting 527->528\n",
      "correcting 951->949\n"
     ]
    }
   ],
   "source": [
    "all_tpr = []\n",
    "all_fpr = []\n",
    "all_bps_tables = []\n",
    "for gt_file, bps_file in tqdm(zip(gt_files, bps_files)):\n",
    "    bps = pd.read_csv(bps_file, header=None)\n",
    "    bps.columns = ['idx','log_sp','stdev']\n",
    "    bps['ranking'] = bps['log_sp'] / bps['stdev']\n",
    "    # bps = bps.sort_values('ranking',ascending=False)\n",
    "    bps = bps.dropna()\n",
    "    \n",
    "    all_bps_tables.append(bps)\n",
    "    \n",
    "    # get the ground truth\n",
    "    cell_genotypes = pd.read_csv(gt_file, sep=' ' ,header=None)\n",
    "    cell_genotypes = cell_genotypes[cell_genotypes.columns[:-1]] # remove the last (only NaN) column\n",
    "    cell_bps = cell_genotypes.diff(periods=1, axis=1) # apply diff to detect breakpoints\n",
    "    cell_bps = cell_bps.fillna(value=0.0) # diff makes the 1st row NaN, make it zero\n",
    "    cell_bps[cell_bps != 0] = 1 # replace the non-zeroes by 1\n",
    "    grouped_cell_bps = cell_bps.sum(axis=0) # count the non-zeroes\n",
    "    ground_truth = grouped_cell_bps[grouped_cell_bps > 0] # if they occur in at least 1 cell\n",
    "    ground_truth = ground_truth.index.tolist()\n",
    "    # end of ground truth    \n",
    "\n",
    "    # correcting for the bps 1-2 bins nearby\n",
    "    for index, row in bps.iterrows():\n",
    "        idx_val = bps.loc[index, 'idx']\n",
    "        for gt in ground_truth:\n",
    "            if (abs(idx_val - gt) <=2 and idx_val != gt):\n",
    "                print('correcting ' + str(idx_val) + '->' + str(gt))\n",
    "                bps.loc[index,'idx'] = gt\n",
    "    \n",
    "    \n",
    "    threshold_coeffs = sorted(bps['ranking'].values)\n",
    "    # Each breakpoint candidate has a different stdev value.\n",
    "    # The ROC computations takes that into account.tpr_values = []\n",
    "    tpr_values = []\n",
    "    fpr_values = []\n",
    "    for thr in threshold_coeffs:\n",
    "        predicted_positives = []\n",
    "        predicted_negatives = []\n",
    "        for index, row in bps.iterrows():\n",
    "            if row['ranking'] > thr:\n",
    "                predicted_positives.append(row['idx'])\n",
    "            else:\n",
    "                break \n",
    "                \n",
    "        #import ipdb; ipdb.set_trace()\n",
    "        predicted_negatives = [i for i in all_bins if i not in predicted_positives]\n",
    "\n",
    "        true_positives = [i for i in predicted_positives if i in ground_truth]\n",
    "        false_positives = [i for i in predicted_positives if i not in ground_truth]\n",
    "\n",
    "        true_negatives = [i for i in predicted_negatives if i not in ground_truth]\n",
    "        false_negatives = [i for i in predicted_negatives if i in ground_truth]\n",
    "\n",
    "        # import ipdb; ipdb.set_trace()\n",
    "        assert(len(ground_truth) == (len(true_positives) + len(false_negatives)))\n",
    "        tpr = len(true_positives) / len(ground_truth) # len(ground_truth)\n",
    "        fpr = len(false_positives) / (1000 - len(ground_truth)) # (len(false_positives) + len(true_negatives))\n",
    "        tpr_values.append(tpr)\n",
    "        fpr_values.append(fpr)\n",
    "    \n",
    "    all_tpr.append(tpr_values)\n",
    "    all_fpr.append(fpr_values)"
   ]
  },
  {
   "cell_type": "code",
   "execution_count": null,
   "metadata": {},
   "outputs": [],
   "source": [
    "auc_vals = []\n",
    "plt.figure(figsize=(8,8))\n",
    "for tpr_values, fpr_values in zip(all_tpr, all_fpr):\n",
    "    roc_auc = auc(fpr_values, tpr_values)\n",
    "    auc_vals.append(roc_auc)\n",
    "    plt.plot(fpr_values, tpr_values) # label='ROC curve (area = %0.2f)' % roc_auc)\n",
    "plt.plot([0, 1], [0, 1], color='navy', linestyle='--')\n",
    "plt.gca().set_aspect('equal', adjustable='box')\n",
    "plt.grid(True)\n",
    "plt.xlabel('False Positive Rate')\n",
    "plt.ylabel('True Positive Rate')\n",
    "plt.title('Receiver operating characteristic')\n",
    "# plt.legend(loc=\"lower right\")\n",
    "plt.show()"
   ]
  },
  {
   "cell_type": "code",
   "execution_count": null,
   "metadata": {},
   "outputs": [],
   "source": [
    "threshold_indices = []\n",
    "for idx, val in enumerate(all_tpr):\n",
    "    df = pd.DataFrame(data=[all_tpr[idx],all_fpr[idx]]).T\n",
    "    df.columns = ['tpr','fpr']\n",
    "    df['idx'] = df.index\n",
    "    df = df[df['tpr']==df['tpr'].max()]\n",
    "    df = df[df['fpr']==df['fpr'].min()]\n",
    "    print(df)\n",
    "    thr_idx = df.idx.values[0]\n",
    "    threshold_indices.append(thr_idx)"
   ]
  },
  {
   "cell_type": "code",
   "execution_count": null,
   "metadata": {},
   "outputs": [],
   "source": [
    "len(threshold_indices)"
   ]
  },
  {
   "cell_type": "code",
   "execution_count": null,
   "metadata": {},
   "outputs": [],
   "source": [
    "len(all_tpr[0])"
   ]
  },
  {
   "cell_type": "code",
   "execution_count": null,
   "metadata": {},
   "outputs": [],
   "source": [
    "all_bps_tables[0].shape"
   ]
  },
  {
   "cell_type": "code",
   "execution_count": null,
   "metadata": {
    "scrolled": true
   },
   "outputs": [],
   "source": [
    "all_bps_tables[0]"
   ]
  },
  {
   "cell_type": "code",
   "execution_count": null,
   "metadata": {},
   "outputs": [],
   "source": [
    "threshold_indices"
   ]
  },
  {
   "cell_type": "code",
   "execution_count": null,
   "metadata": {},
   "outputs": [],
   "source": [
    "bps_thresholds = []\n",
    "for idx, val in enumerate(threshold_indices):\n",
    "    bps_thresholds.append(all_bps_tables[idx].iloc[[val]]['ranking'].values[0])"
   ]
  },
  {
   "cell_type": "code",
   "execution_count": null,
   "metadata": {},
   "outputs": [],
   "source": [
    "ax = sns.distplot(bps_thresholds, rug=True);\n",
    "ax.xaxis.set_major_locator(ticker.MultipleLocator(0.5))"
   ]
  },
  {
   "cell_type": "code",
   "execution_count": null,
   "metadata": {},
   "outputs": [],
   "source": []
  }
 ],
 "metadata": {
  "kernelspec": {
   "display_name": "Python 3",
   "language": "python",
   "name": "python3"
  },
  "language_info": {
   "codemirror_mode": {
    "name": "ipython",
    "version": 3
   },
   "file_extension": ".py",
   "mimetype": "text/x-python",
   "name": "python",
   "nbconvert_exporter": "python",
   "pygments_lexer": "ipython3",
   "version": "3.6.3"
  },
  "varInspector": {
   "cols": {
    "lenName": 16,
    "lenType": 16,
    "lenVar": 40
   },
   "kernels_config": {
    "python": {
     "delete_cmd_postfix": "",
     "delete_cmd_prefix": "del ",
     "library": "var_list.py",
     "varRefreshCmd": "print(var_dic_list())"
    },
    "r": {
     "delete_cmd_postfix": ") ",
     "delete_cmd_prefix": "rm(",
     "library": "var_list.r",
     "varRefreshCmd": "cat(var_dic_list()) "
    }
   },
   "types_to_exclude": [
    "module",
    "function",
    "builtin_function_or_method",
    "instance",
    "_Feature"
   ],
   "window_display": false
  }
 },
 "nbformat": 4,
 "nbformat_minor": 2
}
