{
 "cells": [
  {
   "cell_type": "code",
   "execution_count": 1,
   "metadata": {},
   "outputs": [],
   "source": [
    "import pandas as pd\n",
    "import numpy as np\n",
    "from collections import Counter\n",
    "from sklearn.metrics import roc_curve, auc\n",
    "import seaborn as sns\n",
    "import matplotlib.pyplot as plt\n",
    "import matplotlib.ticker as ticker\n",
    "%matplotlib inline\n",
    "from tqdm import tqdm_notebook as tqdm\n",
    "sns.set(rc={'figure.figsize':(15.7,8.27)})"
   ]
  },
  {
   "cell_type": "code",
   "execution_count": 2,
   "metadata": {},
   "outputs": [],
   "source": [
    "n_rep = 100\n",
    "n_bins = 1000\n",
    "n_nodes = 10\n",
    "n_regions = 40\n",
    "n_reads = 10000\n",
    "PATH = '../../workflows/bp_detection_performance/results/'"
   ]
  },
  {
   "cell_type": "code",
   "execution_count": 3,
   "metadata": {},
   "outputs": [],
   "source": [
    "gt_files = [PATH + str(n_nodes)+'nodes_'+str(n_regions)+'regions_'+str(n_reads) \\\n",
    "             +'reads_simdata_'+str(x)+'_ground_truth.txt' for x in range(0,n_rep)]\n",
    "bps_files = [PATH + 'simdata_'+str(x)+'_all_bps_comparison.csv' for x in range(0,n_rep)]\n",
    "all_bins = range(0,n_bins)"
   ]
  },
  {
   "cell_type": "code",
   "execution_count": null,
   "metadata": {},
   "outputs": [
    {
     "data": {
      "text/plain": [
       "range(0, 1000)"
      ]
     },
     "execution_count": 4,
     "metadata": {},
     "output_type": "execute_result"
    }
   ],
   "source": [
    "all_bins"
   ]
  },
  {
   "cell_type": "code",
   "execution_count": null,
   "metadata": {},
   "outputs": [
    {
     "data": {
      "application/vnd.jupyter.widget-view+json": {
       "model_id": "0a07e3a1ed9745f3a78fc3607696c842",
       "version_major": 2,
       "version_minor": 0
      },
      "text/plain": [
       "A Jupyter Widget"
      ]
     },
     "metadata": {},
     "output_type": "display_data"
    },
    {
     "name": "stdout",
     "output_type": "stream",
     "text": [
      "correcting 652->651\n",
      "correcting 206->207\n",
      "correcting 526->525\n",
      "correcting 762->761\n",
      "correcting 881->880\n",
      "len threshold coeffs100\n",
      "correcting 366->365\n",
      "len threshold coeffs100\n",
      "correcting 644->645\n",
      "correcting 888->889\n",
      "correcting 598->597\n",
      "len threshold coeffs100\n",
      "correcting 674->673\n",
      "correcting 803->804\n",
      "len threshold coeffs100\n",
      "correcting 628->629\n",
      "correcting 446->447\n",
      "correcting 206->207\n",
      "len threshold coeffs100\n",
      "correcting 441->440\n",
      "correcting 912->913\n",
      "correcting 871->869\n",
      "correcting 198->199\n",
      "len threshold coeffs100\n",
      "correcting 926->927\n",
      "len threshold coeffs100\n",
      "correcting 390->391\n",
      "len threshold coeffs100\n",
      "correcting 187->189\n",
      "correcting 138->137\n",
      "correcting 648->647\n",
      "len threshold coeffs100\n",
      "correcting 485->484\n",
      "correcting 504->505\n",
      "correcting 521->520\n",
      "len threshold coeffs100\n",
      "correcting 577->579\n",
      "len threshold coeffs100\n"
     ]
    }
   ],
   "source": [
    "all_tpr = []\n",
    "all_fpr = []\n",
    "all_n_positives = []\n",
    "all_bps_tables = []\n",
    "\n",
    "threshold_coeffs = np.linspace(1.0,16.0, 100) # 100 thresholds btw 1 and 16\n",
    "\n",
    "for gt_file, bps_file in tqdm(zip(gt_files, bps_files)):\n",
    "    bps = pd.read_csv(bps_file, header=None)\n",
    "    bps.columns = ['idx','log_sp','stdev']\n",
    "    bps['ranking'] = bps['log_sp'] / bps['stdev']\n",
    "    # bps = bps.sort_values('ranking',ascending=False)\n",
    "    bps = bps.dropna()\n",
    "    \n",
    "    all_bps_tables.append(bps)\n",
    "    \n",
    "    # get the ground truth\n",
    "    cell_genotypes = pd.read_csv(gt_file, sep=' ' ,header=None)\n",
    "    cell_genotypes = cell_genotypes[cell_genotypes.columns[:-1]] # remove the last (only NaN) column\n",
    "    cell_bps = cell_genotypes.diff(periods=1, axis=1) # apply diff to detect breakpoints\n",
    "    cell_bps = cell_bps.fillna(value=0.0) # diff makes the 1st row NaN, make it zero\n",
    "    cell_bps[cell_bps != 0] = 1 # replace the non-zeroes by 1\n",
    "    grouped_cell_bps = cell_bps.sum(axis=0) # count the non-zeroes\n",
    "    ground_truth = grouped_cell_bps[grouped_cell_bps > 0] # if they occur in at least 1 cell\n",
    "    ground_truth = ground_truth.index.tolist()\n",
    "    # end of ground truth    \n",
    "\n",
    "    # correcting for the bps 1-2 bins nearby\n",
    "    for index, row in bps.iterrows():\n",
    "        idx_val = bps.loc[index, 'idx']\n",
    "        for gt in ground_truth:\n",
    "            if (abs(idx_val - gt) <=2 and idx_val != gt):\n",
    "                print('correcting ' + str(idx_val) + '->' + str(gt))\n",
    "                bps.loc[index,'idx'] = gt\n",
    "    \n",
    "    # use a fixed threshold_coeffs for all\n",
    "    # threshold_coeffs = sorted(bps['ranking'].values)\n",
    "    print('len threshold coeffs' + str(len(threshold_coeffs)))\n",
    "    # Each breakpoint candidate has a different stdev value.\n",
    "    # The ROC computations takes that into account.tpr_values = []\n",
    "    tpr_values = []\n",
    "    fpr_values = []\n",
    "    n_positives = []\n",
    "    for thr in threshold_coeffs:\n",
    "        predicted_positives = []\n",
    "        predicted_negatives = []\n",
    "        for index, row in bps.iterrows():\n",
    "            if row['ranking'] > thr:\n",
    "                predicted_positives.append(row['idx'])\n",
    "            else:\n",
    "                break \n",
    "                \n",
    "        #import ipdb; ipdb.set_trace()\n",
    "        predicted_negatives = [i for i in all_bins if i not in predicted_positives]\n",
    "\n",
    "        true_positives = [i for i in predicted_positives if i in ground_truth]\n",
    "        false_positives = [i for i in predicted_positives if i not in ground_truth]\n",
    "\n",
    "        true_negatives = [i for i in predicted_negatives if i not in ground_truth]\n",
    "        false_negatives = [i for i in predicted_negatives if i in ground_truth]\n",
    "\n",
    "        # import ipdb; ipdb.set_trace()\n",
    "        assert(len(ground_truth) == (len(true_positives) + len(false_negatives)))\n",
    "        tpr = len(true_positives) / len(ground_truth) # len(ground_truth)\n",
    "        fpr = len(false_positives) / (1000 - len(ground_truth)) # (len(false_positives) + len(true_negatives))\n",
    "        tpr_values.append(tpr)\n",
    "        fpr_values.append(fpr)\n",
    "        n_positives.append(len(predicted_positives))\n",
    "    \n",
    "    all_tpr.append(tpr_values)\n",
    "    all_fpr.append(fpr_values)\n",
    "    all_n_positives.append(n_positives)"
   ]
  },
  {
   "cell_type": "code",
   "execution_count": null,
   "metadata": {},
   "outputs": [],
   "source": [
    "auc_vals = []\n",
    "plt.figure(figsize=(8,8))\n",
    "for tpr_values, fpr_values in zip(all_tpr, all_fpr):\n",
    "    roc_auc = auc(fpr_values, tpr_values)\n",
    "    auc_vals.append(roc_auc)\n",
    "    plt.plot(fpr_values, tpr_values) # label='ROC curve (area = %0.2f)' % roc_auc)\n",
    "plt.plot([0, 1], [0, 1], color='navy', linestyle='--')\n",
    "plt.gca().set_aspect('equal', adjustable='box')\n",
    "plt.grid(True)\n",
    "plt.xlabel('False Positive Rate')\n",
    "plt.ylabel('True Positive Rate')\n",
    "plt.title('Receiver operating characteristic')\n",
    "# plt.legend(loc=\"lower right\")\n",
    "plt.show()"
   ]
  },
  {
   "cell_type": "code",
   "execution_count": null,
   "metadata": {},
   "outputs": [],
   "source": [
    "threshold_indices = []\n",
    "for idx, val in enumerate(all_tpr):\n",
    "    df = pd.DataFrame(data=[all_tpr[idx],all_fpr[idx]]).T\n",
    "    df.columns = ['tpr','fpr']\n",
    "    df['idx'] = df.index\n",
    "    df = df[df['tpr']==df['tpr'].max()]\n",
    "    df = df[df['fpr']==df['fpr'].min()]\n",
    "    print(df)\n",
    "    thr_idx = df.idx.values[0]\n",
    "    threshold_indices.append(thr_idx)"
   ]
  },
  {
   "cell_type": "code",
   "execution_count": null,
   "metadata": {},
   "outputs": [],
   "source": [
    "len(threshold_indices)"
   ]
  },
  {
   "cell_type": "code",
   "execution_count": null,
   "metadata": {},
   "outputs": [],
   "source": [
    "len(all_tpr[0])"
   ]
  },
  {
   "cell_type": "code",
   "execution_count": null,
   "metadata": {},
   "outputs": [],
   "source": [
    "all_bps_tables[0].shape"
   ]
  },
  {
   "cell_type": "code",
   "execution_count": null,
   "metadata": {
    "scrolled": true
   },
   "outputs": [],
   "source": [
    "all_bps_tables[0]"
   ]
  },
  {
   "cell_type": "code",
   "execution_count": null,
   "metadata": {},
   "outputs": [],
   "source": [
    "bps_thresholds = []\n",
    "for idx, val in enumerate(threshold_indices):\n",
    "    bps_thresholds.append(all_bps_tables[idx].iloc[[val]]['ranking'].values[0])"
   ]
  },
  {
   "cell_type": "code",
   "execution_count": null,
   "metadata": {},
   "outputs": [],
   "source": [
    "sns.set(rc={'figure.figsize':(15.7,8.27)})\n",
    "ax = sns.distplot(bps_thresholds, rug=True);\n",
    "ax.xaxis.set_major_locator(ticker.MultipleLocator(0.5))"
   ]
  },
  {
   "cell_type": "markdown",
   "metadata": {},
   "source": [
    "## Average TRP, FPR, number of predicted positives for each threshold value over 100 runs\n",
    "For each run."
   ]
  },
  {
   "cell_type": "code",
   "execution_count": null,
   "metadata": {},
   "outputs": [],
   "source": [
    "tpr_df = pd.DataFrame(all_tpr)\n",
    "tpr_df.columns = threshold_coeffs\n",
    "tpr_df.head()"
   ]
  },
  {
   "cell_type": "code",
   "execution_count": null,
   "metadata": {},
   "outputs": [],
   "source": [
    "mean_tpr = tpr_df.mean()\n",
    "plt = sns.lineplot(x=mean_tpr.index,y=mean_tpr.values).set_title('Average TPR values')"
   ]
  },
  {
   "cell_type": "code",
   "execution_count": null,
   "metadata": {},
   "outputs": [],
   "source": [
    "fpr_df = pd.DataFrame(all_fpr)\n",
    "fpr_df.columns = threshold_coeffs\n",
    "fpr_df.head()"
   ]
  },
  {
   "cell_type": "code",
   "execution_count": null,
   "metadata": {},
   "outputs": [],
   "source": [
    "mean_fpr = fpr_df.mean()\n",
    "plt = sns.lineplot(x=mean_fpr.index,y=mean_fpr.values).set_title('Average FPR values')"
   ]
  },
  {
   "cell_type": "code",
   "execution_count": null,
   "metadata": {},
   "outputs": [],
   "source": [
    "n_positives_df = pd.DataFrame(all_n_positives)\n",
    "n_positives_df.columns = threshold_coeffs\n",
    "n_positives_df.head()"
   ]
  },
  {
   "cell_type": "code",
   "execution_count": null,
   "metadata": {},
   "outputs": [],
   "source": [
    "mean_n_positives = n_positives_df.mean()\n",
    "plt = sns.lineplot(x=mean_n_positives.index,y=mean_n_positives.values).set_title('Average n_positive values')"
   ]
  },
  {
   "cell_type": "code",
   "execution_count": null,
   "metadata": {},
   "outputs": [],
   "source": [
    "df_avg = pd.DataFrame(data={'mean_tpr': mean_tpr, 'mean_fpr': mean_fpr})"
   ]
  },
  {
   "cell_type": "code",
   "execution_count": null,
   "metadata": {},
   "outputs": [],
   "source": [
    "df_avg.head()"
   ]
  },
  {
   "cell_type": "code",
   "execution_count": null,
   "metadata": {},
   "outputs": [],
   "source": [
    "df_avg.plot()"
   ]
  }
 ],
 "metadata": {
  "kernelspec": {
   "display_name": "Python 3",
   "language": "python",
   "name": "python3"
  },
  "language_info": {
   "codemirror_mode": {
    "name": "ipython",
    "version": 3
   },
   "file_extension": ".py",
   "mimetype": "text/x-python",
   "name": "python",
   "nbconvert_exporter": "python",
   "pygments_lexer": "ipython3",
   "version": "3.6.3"
  },
  "varInspector": {
   "cols": {
    "lenName": 16,
    "lenType": 16,
    "lenVar": 40
   },
   "kernels_config": {
    "python": {
     "delete_cmd_postfix": "",
     "delete_cmd_prefix": "del ",
     "library": "var_list.py",
     "varRefreshCmd": "print(var_dic_list())"
    },
    "r": {
     "delete_cmd_postfix": ") ",
     "delete_cmd_prefix": "rm(",
     "library": "var_list.r",
     "varRefreshCmd": "cat(var_dic_list()) "
    }
   },
   "types_to_exclude": [
    "module",
    "function",
    "builtin_function_or_method",
    "instance",
    "_Feature"
   ],
   "window_display": false
  }
 },
 "nbformat": 4,
 "nbformat_minor": 2
}
