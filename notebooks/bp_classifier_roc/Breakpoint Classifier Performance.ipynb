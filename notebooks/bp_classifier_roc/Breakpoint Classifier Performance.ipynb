{
 "cells": [
  {
   "cell_type": "code",
   "execution_count": 1,
   "metadata": {},
   "outputs": [],
   "source": [
    "import pandas as pd\n",
    "import numpy as np\n",
    "from collections import Counter\n",
    "from sklearn.metrics import roc_curve, auc\n",
    "import matplotlib.pyplot as plt\n",
    "%matplotlib inline"
   ]
  },
  {
   "cell_type": "code",
   "execution_count": 2,
   "metadata": {},
   "outputs": [],
   "source": [
    "bps = pd.read_csv('./simdata_all_bps_comparison.csv', header=None)"
   ]
  },
  {
   "cell_type": "code",
   "execution_count": 3,
   "metadata": {},
   "outputs": [],
   "source": [
    "bps.columns = ['idx','log_sp','stdev']"
   ]
  },
  {
   "cell_type": "code",
   "execution_count": 4,
   "metadata": {},
   "outputs": [
    {
     "data": {
      "text/html": [
       "<div>\n",
       "<style scoped>\n",
       "    .dataframe tbody tr th:only-of-type {\n",
       "        vertical-align: middle;\n",
       "    }\n",
       "\n",
       "    .dataframe tbody tr th {\n",
       "        vertical-align: top;\n",
       "    }\n",
       "\n",
       "    .dataframe thead th {\n",
       "        text-align: right;\n",
       "    }\n",
       "</style>\n",
       "<table border=\"1\" class=\"dataframe\">\n",
       "  <thead>\n",
       "    <tr style=\"text-align: right;\">\n",
       "      <th></th>\n",
       "      <th>idx</th>\n",
       "      <th>log_sp</th>\n",
       "      <th>stdev</th>\n",
       "    </tr>\n",
       "  </thead>\n",
       "  <tbody>\n",
       "    <tr>\n",
       "      <th>0</th>\n",
       "      <td>572</td>\n",
       "      <td>2.780960</td>\n",
       "      <td>0.265163</td>\n",
       "    </tr>\n",
       "    <tr>\n",
       "      <th>1</th>\n",
       "      <td>610</td>\n",
       "      <td>2.659350</td>\n",
       "      <td>0.214473</td>\n",
       "    </tr>\n",
       "    <tr>\n",
       "      <th>2</th>\n",
       "      <td>852</td>\n",
       "      <td>1.461990</td>\n",
       "      <td>0.160761</td>\n",
       "    </tr>\n",
       "    <tr>\n",
       "      <th>3</th>\n",
       "      <td>887</td>\n",
       "      <td>1.138650</td>\n",
       "      <td>0.143270</td>\n",
       "    </tr>\n",
       "    <tr>\n",
       "      <th>4</th>\n",
       "      <td>963</td>\n",
       "      <td>0.950547</td>\n",
       "      <td>0.126712</td>\n",
       "    </tr>\n",
       "  </tbody>\n",
       "</table>\n",
       "</div>"
      ],
      "text/plain": [
       "   idx    log_sp     stdev\n",
       "0  572  2.780960  0.265163\n",
       "1  610  2.659350  0.214473\n",
       "2  852  1.461990  0.160761\n",
       "3  887  1.138650  0.143270\n",
       "4  963  0.950547  0.126712"
      ]
     },
     "execution_count": 4,
     "metadata": {},
     "output_type": "execute_result"
    }
   ],
   "source": [
    "bps.head()"
   ]
  },
  {
   "cell_type": "code",
   "execution_count": 7,
   "metadata": {
    "scrolled": false
   },
   "outputs": [
    {
     "data": {
      "text/plain": [
       "[11,\n",
       " 17,\n",
       " 33,\n",
       " 39,\n",
       " 42,\n",
       " 57,\n",
       " 68,\n",
       " 72,\n",
       " 77,\n",
       " 89,\n",
       " 103,\n",
       " 114,\n",
       " 123,\n",
       " 134,\n",
       " 144,\n",
       " 151,\n",
       " 161,\n",
       " 171,\n",
       " 181,\n",
       " 192,\n",
       " 195,\n",
       " 202,\n",
       " 214,\n",
       " 216,\n",
       " 224,\n",
       " 228,\n",
       " 231,\n",
       " 244,\n",
       " 251,\n",
       " 254,\n",
       " 271,\n",
       " 278,\n",
       " 284,\n",
       " 294,\n",
       " 307,\n",
       " 316,\n",
       " 322,\n",
       " 330,\n",
       " 341,\n",
       " 349,\n",
       " 356,\n",
       " 361,\n",
       " 364,\n",
       " 368,\n",
       " 378,\n",
       " 388,\n",
       " 402,\n",
       " 413,\n",
       " 417,\n",
       " 421,\n",
       " 423,\n",
       " 428,\n",
       " 431,\n",
       " 441,\n",
       " 452,\n",
       " 465,\n",
       " 470,\n",
       " 479,\n",
       " 494,\n",
       " 496,\n",
       " 506,\n",
       " 514,\n",
       " 524,\n",
       " 532,\n",
       " 548,\n",
       " 560,\n",
       " 572,\n",
       " 580,\n",
       " 585,\n",
       " 598,\n",
       " 604,\n",
       " 610,\n",
       " 631,\n",
       " 634,\n",
       " 645,\n",
       " 650,\n",
       " 664,\n",
       " 672,\n",
       " 677,\n",
       " 685,\n",
       " 695,\n",
       " 706,\n",
       " 721,\n",
       " 725,\n",
       " 735,\n",
       " 745,\n",
       " 755,\n",
       " 775,\n",
       " 777,\n",
       " 796,\n",
       " 809,\n",
       " 812,\n",
       " 819,\n",
       " 829,\n",
       " 843,\n",
       " 847,\n",
       " 852,\n",
       " 863,\n",
       " 870,\n",
       " 887,\n",
       " 889,\n",
       " 891,\n",
       " 901,\n",
       " 903,\n",
       " 909,\n",
       " 915,\n",
       " 926,\n",
       " 932,\n",
       " 941,\n",
       " 958,\n",
       " 963,\n",
       " 968,\n",
       " 971,\n",
       " 981,\n",
       " 985]"
      ]
     },
     "execution_count": 7,
     "metadata": {},
     "output_type": "execute_result"
    }
   ],
   "source": [
    "bps.sort_values('idx')['idx'].tolist()"
   ]
  },
  {
   "cell_type": "code",
   "execution_count": 6,
   "metadata": {},
   "outputs": [
    {
     "data": {
      "text/plain": [
       "(115, 3)"
      ]
     },
     "execution_count": 6,
     "metadata": {},
     "output_type": "execute_result"
    }
   ],
   "source": [
    "bps.shape"
   ]
  },
  {
   "cell_type": "code",
   "execution_count": 7,
   "metadata": {},
   "outputs": [],
   "source": [
    "bps.index = bps['idx']"
   ]
  },
  {
   "cell_type": "code",
   "execution_count": 8,
   "metadata": {},
   "outputs": [],
   "source": [
    "n_bins = 1000\n",
    "all_bins = range(0,n_bins)"
   ]
  },
  {
   "cell_type": "code",
   "execution_count": 9,
   "metadata": {},
   "outputs": [],
   "source": [
    "all_bins_df = pd.DataFrame(index=all_bins)\n",
    "all_bins_df['idx'] = all_bins_df.index\n",
    "all_bins_df['log_sp'] = None\n",
    "all_bins_df['stdev'] = None"
   ]
  },
  {
   "cell_type": "code",
   "execution_count": 10,
   "metadata": {},
   "outputs": [
    {
     "data": {
      "text/html": [
       "<div>\n",
       "<style scoped>\n",
       "    .dataframe tbody tr th:only-of-type {\n",
       "        vertical-align: middle;\n",
       "    }\n",
       "\n",
       "    .dataframe tbody tr th {\n",
       "        vertical-align: top;\n",
       "    }\n",
       "\n",
       "    .dataframe thead th {\n",
       "        text-align: right;\n",
       "    }\n",
       "</style>\n",
       "<table border=\"1\" class=\"dataframe\">\n",
       "  <thead>\n",
       "    <tr style=\"text-align: right;\">\n",
       "      <th></th>\n",
       "      <th>idx</th>\n",
       "      <th>log_sp</th>\n",
       "      <th>stdev</th>\n",
       "    </tr>\n",
       "  </thead>\n",
       "  <tbody>\n",
       "    <tr>\n",
       "      <th>0</th>\n",
       "      <td>0</td>\n",
       "      <td>None</td>\n",
       "      <td>None</td>\n",
       "    </tr>\n",
       "    <tr>\n",
       "      <th>1</th>\n",
       "      <td>1</td>\n",
       "      <td>None</td>\n",
       "      <td>None</td>\n",
       "    </tr>\n",
       "    <tr>\n",
       "      <th>2</th>\n",
       "      <td>2</td>\n",
       "      <td>None</td>\n",
       "      <td>None</td>\n",
       "    </tr>\n",
       "    <tr>\n",
       "      <th>3</th>\n",
       "      <td>3</td>\n",
       "      <td>None</td>\n",
       "      <td>None</td>\n",
       "    </tr>\n",
       "    <tr>\n",
       "      <th>4</th>\n",
       "      <td>4</td>\n",
       "      <td>None</td>\n",
       "      <td>None</td>\n",
       "    </tr>\n",
       "  </tbody>\n",
       "</table>\n",
       "</div>"
      ],
      "text/plain": [
       "   idx log_sp stdev\n",
       "0    0   None  None\n",
       "1    1   None  None\n",
       "2    2   None  None\n",
       "3    3   None  None\n",
       "4    4   None  None"
      ]
     },
     "execution_count": 10,
     "metadata": {},
     "output_type": "execute_result"
    }
   ],
   "source": [
    "all_bins_df.head()"
   ]
  },
  {
   "cell_type": "code",
   "execution_count": 11,
   "metadata": {},
   "outputs": [
    {
     "data": {
      "text/plain": [
       "[277, 415, 548, 572, 635, 650, 795, 852, 963]"
      ]
     },
     "execution_count": 11,
     "metadata": {},
     "output_type": "execute_result"
    }
   ],
   "source": [
    "ground_truth = pd.read_csv('./10nodes_40regions_10000reads_sim_tiny2_effective_regions.txt',header=None)\n",
    "ground_truth = ground_truth[0].values.tolist()\n",
    "ground_truth"
   ]
  },
  {
   "cell_type": "code",
   "execution_count": 12,
   "metadata": {
    "scrolled": true
   },
   "outputs": [
    {
     "data": {
      "text/plain": [
       "Counter({False: 113, True: 2})"
      ]
     },
     "execution_count": 12,
     "metadata": {},
     "output_type": "execute_result"
    }
   ],
   "source": [
    "Counter((0.1*bps['log_sp'] - bps['stdev']).values > 0)"
   ]
  },
  {
   "cell_type": "code",
   "execution_count": 13,
   "metadata": {},
   "outputs": [
    {
     "data": {
      "text/plain": [
       "Counter({True: 115})"
      ]
     },
     "execution_count": 13,
     "metadata": {},
     "output_type": "execute_result"
    }
   ],
   "source": [
    "Counter((9.1*bps['log_sp'] - bps['stdev']).values > 0)"
   ]
  },
  {
   "cell_type": "markdown",
   "metadata": {},
   "source": [
    "### ROC curve\n",
    "Each breakpoint candidate has a different stdev value. The ROC computations should take that into account."
   ]
  },
  {
   "cell_type": "code",
   "execution_count": 14,
   "metadata": {},
   "outputs": [],
   "source": [
    "bps['ranking'] = bps['log_sp'] / bps['stdev']"
   ]
  },
  {
   "cell_type": "code",
   "execution_count": 16,
   "metadata": {},
   "outputs": [],
   "source": [
    "bps = bps.dropna()"
   ]
  },
  {
   "cell_type": "code",
   "execution_count": 24,
   "metadata": {},
   "outputs": [],
   "source": [
    "threshold_coeffs = sorted(bps['ranking'].values)"
   ]
  },
  {
   "cell_type": "code",
   "execution_count": 25,
   "metadata": {},
   "outputs": [
    {
     "data": {
      "text/plain": [
       "[1.1590777576141684,\n",
       " 1.1656815464844719,\n",
       " 1.2099689365668915,\n",
       " 1.249719638620659,\n",
       " 1.2506435780265985,\n",
       " 1.2788481809085215,\n",
       " 1.3108399632574048,\n",
       " 1.3171861395440687,\n",
       " 1.3216550019060873,\n",
       " 1.3278003429912444,\n",
       " 1.3324882396266289,\n",
       " 1.33282504339587,\n",
       " 1.3384100641407617,\n",
       " 1.3428582918075527,\n",
       " 1.3584228420134186,\n",
       " 1.3705039067673153,\n",
       " 1.4047102430592537,\n",
       " 1.4568978372078158,\n",
       " 1.4898038058082246,\n",
       " 1.4960179913147473,\n",
       " 1.530080370538309,\n",
       " 1.5851111884312759,\n",
       " 1.6046059119865657,\n",
       " 1.6104018030344758,\n",
       " 1.6114529371586617,\n",
       " 1.616243667186282,\n",
       " 1.624430998688002,\n",
       " 1.6472066070251203,\n",
       " 1.65103160232094,\n",
       " 1.6524367824271748,\n",
       " 1.6617548148706314,\n",
       " 1.6620038447829568,\n",
       " 1.6697599832560772,\n",
       " 1.684512327612966,\n",
       " 1.7009196009961185,\n",
       " 1.7292258013319415,\n",
       " 1.7407737347837007,\n",
       " 1.7731420250782106,\n",
       " 1.7891879345665183,\n",
       " 1.7903870008418192,\n",
       " 1.814767119082369,\n",
       " 1.816792852141394,\n",
       " 1.8735039050613653,\n",
       " 1.936995456378407,\n",
       " 1.949408593135295,\n",
       " 1.9601501566050485,\n",
       " 1.9840607760539037,\n",
       " 1.9844342645676283,\n",
       " 1.9932574479086014,\n",
       " 2.002751761465456,\n",
       " 2.0152390594724805,\n",
       " 2.0316413582147357,\n",
       " 2.038200348201468,\n",
       " 2.0496928364458262,\n",
       " 2.0550923106004912,\n",
       " 2.0614680703226402,\n",
       " 2.0862288748449473,\n",
       " 2.09576202919622,\n",
       " 2.1046844883089624,\n",
       " 2.1487992069430364,\n",
       " 2.1850606282308074,\n",
       " 2.1952286068178144,\n",
       " 2.20875355363146,\n",
       " 2.2211706457598175,\n",
       " 2.2322953856194094,\n",
       " 2.2415525104736287,\n",
       " 2.247881136324039,\n",
       " 2.2515036137271087,\n",
       " 2.259995428461437,\n",
       " 2.26811243251,\n",
       " 2.336855688986474,\n",
       " 2.3394799980718783,\n",
       " 2.352647882303307,\n",
       " 2.36401119128258,\n",
       " 2.3839699108513757,\n",
       " 2.401079486282381,\n",
       " 2.403677147560193,\n",
       " 2.4123753115931055,\n",
       " 2.43196041116076,\n",
       " 2.455885242072338,\n",
       " 2.5011878413774897,\n",
       " 2.50360441876883,\n",
       " 2.504168628752731,\n",
       " 2.5238955949238133,\n",
       " 2.532805737224993,\n",
       " 2.5331252681212497,\n",
       " 2.583034134569117,\n",
       " 2.595997118856132,\n",
       " 2.6048033987948154,\n",
       " 2.610709605732919,\n",
       " 2.6124468730126025,\n",
       " 2.6340762084495477,\n",
       " 2.6409395837297525,\n",
       " 2.83276506391496,\n",
       " 2.861626796073234,\n",
       " 2.869241720594942,\n",
       " 2.887762827177567,\n",
       " 2.9657728532309493,\n",
       " 3.313501323830253,\n",
       " 3.3756491468355874,\n",
       " 3.3972579005907755,\n",
       " 3.7431187687321406,\n",
       " 3.7677266670700114,\n",
       " 4.647661958487761,\n",
       " 5.08840151823123,\n",
       " 6.065494483211232,\n",
       " 7.439883890971863,\n",
       " 7.501633625860219,\n",
       " 7.947581489495358,\n",
       " 7.979031986409468,\n",
       " 8.025603685659817,\n",
       " 8.33852330551179,\n",
       " 9.094183290723496,\n",
       " 10.487737731131416,\n",
       " 12.399462869452098]"
      ]
     },
     "execution_count": 25,
     "metadata": {},
     "output_type": "execute_result"
    }
   ],
   "source": [
    "threshold_coeffs"
   ]
  },
  {
   "cell_type": "code",
   "execution_count": 26,
   "metadata": {},
   "outputs": [
    {
     "name": "stdout",
     "output_type": "stream",
     "text": [
      "1\n",
      "2\n",
      "10\n",
      "10\n",
      "11\n",
      "12\n",
      "13\n",
      "14\n",
      "14\n",
      "15\n",
      "15\n",
      "15\n",
      "15\n",
      "15\n",
      "16\n",
      "16\n",
      "17\n",
      "18\n",
      "19\n",
      "20\n",
      "21\n",
      "22\n",
      "28\n",
      "29\n",
      "33\n",
      "33\n",
      "33\n",
      "33\n",
      "37\n",
      "37\n",
      "37\n",
      "37\n",
      "37\n",
      "37\n",
      "37\n",
      "37\n",
      "38\n",
      "38\n",
      "43\n",
      "43\n",
      "43\n",
      "43\n",
      "45\n",
      "46\n",
      "48\n",
      "49\n",
      "50\n",
      "54\n",
      "54\n",
      "54\n",
      "55\n",
      "56\n",
      "56\n",
      "57\n",
      "57\n",
      "57\n",
      "58\n",
      "59\n",
      "59\n",
      "88\n",
      "88\n",
      "88\n",
      "88\n",
      "88\n",
      "88\n",
      "88\n",
      "88\n",
      "88\n",
      "88\n",
      "88\n",
      "88\n",
      "89\n",
      "89\n",
      "90\n",
      "90\n",
      "90\n",
      "91\n",
      "91\n",
      "94\n",
      "94\n",
      "94\n",
      "94\n",
      "94\n",
      "94\n",
      "94\n",
      "94\n",
      "97\n",
      "97\n",
      "97\n",
      "97\n",
      "98\n",
      "98\n",
      "98\n",
      "98\n",
      "98\n",
      "99\n",
      "99\n",
      "99\n",
      "100\n",
      "101\n",
      "101\n",
      "102\n",
      "103\n",
      "104\n",
      "105\n",
      "106\n",
      "108\n",
      "111\n",
      "112\n",
      "112\n",
      "112\n",
      "112\n",
      "113\n",
      "115\n",
      "115\n"
     ]
    }
   ],
   "source": [
    "tpr_values = []\n",
    "fpr_values = []\n",
    "for thr in threshold_coeffs:\n",
    "    positives = []\n",
    "    negatives = []\n",
    "    # import ipdb; ipdb.set_trace() # debugging starts here\n",
    "    for index, row in bps.iterrows():\n",
    "        if row['ranking'] > thr:\n",
    "            positives.append(row['idx'])\n",
    "        else:\n",
    "            break \n",
    "    negatives = [i for i in bps['idx'].values.tolist() if i not in positives]\n",
    "    \n",
    "    print(len(negatives))\n",
    "    \n",
    "    # positives = bps[(thr > bps['ranking'])]['idx'].values.tolist()\n",
    "    # negatives = bps[(thr <= bps['ranking'])]['idx'].values.tolist()\n",
    "\n",
    "    true_positives = [i for i in positives if i in ground_truth]\n",
    "    false_positives = [i for i in positives if i not in true_positives]\n",
    "\n",
    "    true_negatives = [i for i in negatives if i not in ground_truth]\n",
    "    false_negatives = [i for i in negatives if i in ground_truth]\n",
    "\n",
    "    tpr = len(true_positives) / (len(true_positives) + len(false_negatives))\n",
    "    fpr = len(false_positives) / (len(false_positives) + len(true_negatives))\n",
    "    tpr_values.append(tpr)\n",
    "    fpr_values.append(fpr)"
   ]
  },
  {
   "cell_type": "code",
   "execution_count": 27,
   "metadata": {},
   "outputs": [
    {
     "data": {
      "image/png": "[encoded data removed]",
      "text/plain": [
       "<Figure size 576x576 with 1 Axes>"
      ]
     },
     "metadata": {},
     "output_type": "display_data"
    }
   ],
   "source": [
    "roc_auc = auc(fpr_values, tpr_values)\n",
    "plt.figure(figsize=(8,8))\n",
    "plt.plot(fpr_values, tpr_values, color='darkorange', label='ROC curve (area = %0.2f)' % roc_auc)\n",
    "plt.plot([0, 1], [0, 1], color='navy', linestyle='--')\n",
    "plt.gca().set_aspect('equal', adjustable='box')\n",
    "plt.grid(True)\n",
    "plt.xlabel('False Positive Rate')\n",
    "plt.ylabel('True Positive Rate')\n",
    "plt.title('Receiver operating characteristic')\n",
    "plt.legend(loc=\"lower right\")\n",
    "plt.show()"
   ]
  },
  {
   "cell_type": "code",
   "execution_count": null,
   "metadata": {},
   "outputs": [],
   "source": []
  },
  {
   "cell_type": "code",
   "execution_count": null,
   "metadata": {},
   "outputs": [],
   "source": []
  },
  {
   "cell_type": "code",
   "execution_count": null,
   "metadata": {},
   "outputs": [],
   "source": []
  }
 ],
 "metadata": {
  "kernelspec": {
   "display_name": "Python 3",
   "language": "python",
   "name": "python3"
  },
  "language_info": {
   "codemirror_mode": {
    "name": "ipython",
    "version": 3
   },
   "file_extension": ".py",
   "mimetype": "text/x-python",
   "name": "python",
   "nbconvert_exporter": "python",
   "pygments_lexer": "ipython3",
   "version": "3.6.3"
  },
  "varInspector": {
   "cols": {
    "lenName": 16,
    "lenType": 16,
    "lenVar": 40
   },
   "kernels_config": {
    "python": {
     "delete_cmd_postfix": "",
     "delete_cmd_prefix": "del ",
     "library": "var_list.py",
     "varRefreshCmd": "print(var_dic_list())"
    },
    "r": {
     "delete_cmd_postfix": ") ",
     "delete_cmd_prefix": "rm(",
     "library": "var_list.r",
     "varRefreshCmd": "cat(var_dic_list()) "
    }
   },
   "types_to_exclude": [
    "module",
    "function",
    "builtin_function_or_method",
    "instance",
    "_Feature"
   ],
   "window_display": false
  }
 },
 "nbformat": 4,
 "nbformat_minor": 2
}
