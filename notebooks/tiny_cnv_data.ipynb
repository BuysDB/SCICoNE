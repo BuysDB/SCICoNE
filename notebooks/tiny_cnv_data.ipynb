{
 "cells": [
  {
   "cell_type": "code",
   "execution_count": 1,
   "metadata": {},
   "outputs": [],
   "source": [
    "import seaborn as sns; sns.set()"
   ]
  },
  {
   "cell_type": "code",
   "execution_count": 2,
   "metadata": {},
   "outputs": [
    {
     "name": "stderr",
     "output_type": "stream",
     "text": [
      "/Users/mtuncel/anaconda3/lib/python3.6/site-packages/h5py/__init__.py:36: FutureWarning: Conversion of the second argument of issubdtype from `float` to `np.floating` is deprecated. In future, it will be treated as `np.float64 == np.dtype(float).type`.\n",
      "  from ._conv import register_converters as _register_converters\n"
     ]
    }
   ],
   "source": [
    "import h5py\n",
    "from matplotlib import pyplot as plt\n",
    "from scipy.cluster.hierarchy import dendrogram, linkage\n",
    "import numpy as np\n",
    "%matplotlib inline\n",
    "sns.set(rc={'figure.figsize':(11.7,8.27)})"
   ]
  },
  {
   "cell_type": "code",
   "execution_count": 3,
   "metadata": {},
   "outputs": [],
   "source": [
    "h5 = h5py.File('../cr_out/cnv_data.h5')"
   ]
  },
  {
   "cell_type": "code",
   "execution_count": 4,
   "metadata": {},
   "outputs": [
    {
     "data": {
      "text/plain": [
       "['cell_barcodes',\n",
       " 'cnvs',\n",
       " 'constants',\n",
       " 'genome_tracks',\n",
       " 'normalized_counts',\n",
       " 'raw_counts',\n",
       " 'tree']"
      ]
     },
     "execution_count": 4,
     "metadata": {},
     "output_type": "execute_result"
    }
   ],
   "source": [
    "list(h5.keys())"
   ]
  },
  {
   "cell_type": "code",
   "execution_count": 5,
   "metadata": {},
   "outputs": [
    {
     "data": {
      "text/plain": [
       "array([b'AAATGCCGTAGGATAT-1', b'ACGCCGACATACGTTG-1',\n",
       "       b'AGGGTGAGTCGCGTCA-1', b'CACACCTCATTTGCGA-1',\n",
       "       b'CTACATTTCTAAGTGC-1', b'GGCCGATGTACTCCGG-1',\n",
       "       b'GGGTTGCCAGGTCCCA-1', b'TCCCGATCACTTGAGT-1',\n",
       "       b'TGACTTTGTAAGCGCA-1', b'TGATTTCGTTGAACTC-1'], dtype='|S18')"
      ]
     },
     "execution_count": 5,
     "metadata": {},
     "output_type": "execute_result"
    }
   ],
   "source": [
    "h5['cell_barcodes'].value"
   ]
  },
  {
   "cell_type": "code",
   "execution_count": 6,
   "metadata": {},
   "outputs": [
    {
     "data": {
      "text/plain": [
       "['gc_fraction', 'is_mappable', 'mappability', 'n_fraction']"
      ]
     },
     "execution_count": 6,
     "metadata": {},
     "output_type": "execute_result"
    }
   ],
   "source": [
    "list(h5['genome_tracks'].keys())"
   ]
  },
  {
   "cell_type": "code",
   "execution_count": 7,
   "metadata": {
    "scrolled": true
   },
   "outputs": [
    {
     "data": {
      "text/plain": [
       "['bin_size',\n",
       " 'chroms',\n",
       " 'num_bins_per_chrom',\n",
       " 'num_cells',\n",
       " 'num_chroms',\n",
       " 'num_nodes']"
      ]
     },
     "execution_count": 7,
     "metadata": {},
     "output_type": "execute_result"
    }
   ],
   "source": [
    "list(h5['constants'].keys())"
   ]
  },
  {
   "cell_type": "code",
   "execution_count": 8,
   "metadata": {},
   "outputs": [
    {
     "data": {
      "text/plain": [
       "20000"
      ]
     },
     "execution_count": 8,
     "metadata": {},
     "output_type": "execute_result"
    }
   ],
   "source": [
    "h5['constants']['bin_size'].value"
   ]
  },
  {
   "cell_type": "code",
   "execution_count": 9,
   "metadata": {},
   "outputs": [
    {
     "data": {
      "text/plain": [
       "array([b'mg1655_chr1'], dtype='|S11')"
      ]
     },
     "execution_count": 9,
     "metadata": {},
     "output_type": "execute_result"
    }
   ],
   "source": [
    "h5['constants']['chroms'].value"
   ]
  },
  {
   "cell_type": "code",
   "execution_count": 10,
   "metadata": {
    "scrolled": true
   },
   "outputs": [
    {
     "data": {
      "text/plain": [
       "1"
      ]
     },
     "execution_count": 10,
     "metadata": {},
     "output_type": "execute_result"
    }
   ],
   "source": [
    "h5['constants']['num_chroms'].value"
   ]
  },
  {
   "cell_type": "code",
   "execution_count": 11,
   "metadata": {},
   "outputs": [
    {
     "data": {
      "text/plain": [
       "array([51])"
      ]
     },
     "execution_count": 11,
     "metadata": {},
     "output_type": "execute_result"
    }
   ],
   "source": [
    "h5['constants']['num_bins_per_chrom'].value"
   ]
  },
  {
   "cell_type": "code",
   "execution_count": null,
   "metadata": {},
   "outputs": [],
   "source": []
  },
  {
   "cell_type": "code",
   "execution_count": 12,
   "metadata": {},
   "outputs": [],
   "source": [
    "cnvs_arr = h5['cnvs']['mg1655_chr1'].value"
   ]
  },
  {
   "cell_type": "code",
   "execution_count": 13,
   "metadata": {},
   "outputs": [
    {
     "data": {
      "text/plain": [
       "(19, 51)"
      ]
     },
     "execution_count": 13,
     "metadata": {},
     "output_type": "execute_result"
    }
   ],
   "source": [
    "cnvs_arr.shape"
   ]
  },
  {
   "cell_type": "code",
   "execution_count": 14,
   "metadata": {},
   "outputs": [],
   "source": [
    "# np.savetxt(\"cnvs_arr.tsv\", cnvs_arr, delimiter=\"\\t\")"
   ]
  },
  {
   "cell_type": "code",
   "execution_count": null,
   "metadata": {},
   "outputs": [],
   "source": []
  },
  {
   "cell_type": "code",
   "execution_count": 18,
   "metadata": {},
   "outputs": [],
   "source": [
    "arr = cnvs_arr"
   ]
  },
  {
   "cell_type": "code",
   "execution_count": 19,
   "metadata": {},
   "outputs": [],
   "source": [
    "#arr[arr < -10] = -2"
   ]
  },
  {
   "cell_type": "code",
   "execution_count": 20,
   "metadata": {
    "scrolled": false
   },
   "outputs": [
    {
     "data": {
      "image/png": "[encoded data removed]",
      "text/plain": [
       "<Figure size 842.4x595.44 with 2 Axes>"
      ]
     },
     "metadata": {},
     "output_type": "display_data"
    }
   ],
   "source": [
    "ax = sns.heatmap(arr)"
   ]
  },
  {
   "cell_type": "code",
   "execution_count": null,
   "metadata": {},
   "outputs": [],
   "source": []
  },
  {
   "cell_type": "code",
   "execution_count": 15,
   "metadata": {},
   "outputs": [
    {
     "data": {
      "text/plain": [
       "['bin_size',\n",
       " 'chroms',\n",
       " 'num_bins_per_chrom',\n",
       " 'num_cells',\n",
       " 'num_chroms',\n",
       " 'num_nodes']"
      ]
     },
     "execution_count": 15,
     "metadata": {},
     "output_type": "execute_result"
    }
   ],
   "source": [
    "list(h5['constants'].keys())"
   ]
  },
  {
   "cell_type": "code",
   "execution_count": 16,
   "metadata": {},
   "outputs": [
    {
     "data": {
      "text/plain": [
       "20000"
      ]
     },
     "execution_count": 16,
     "metadata": {},
     "output_type": "execute_result"
    }
   ],
   "source": [
    "h5['constants']['bin_size'].value"
   ]
  },
  {
   "cell_type": "code",
   "execution_count": null,
   "metadata": {},
   "outputs": [],
   "source": []
  },
  {
   "cell_type": "code",
   "execution_count": 17,
   "metadata": {},
   "outputs": [
    {
     "data": {
      "text/plain": [
       "(487, 5127)"
      ]
     },
     "execution_count": 17,
     "metadata": {},
     "output_type": "execute_result"
    }
   ],
   "source": [
    "h5['normalized_counts']['15'].value.shape"
   ]
  },
  {
   "cell_type": "code",
   "execution_count": 21,
   "metadata": {},
   "outputs": [
    {
     "data": {
      "text/plain": [
       "['1',\n",
       " '10',\n",
       " '11',\n",
       " '12',\n",
       " '13',\n",
       " '14',\n",
       " '15',\n",
       " '16',\n",
       " '17',\n",
       " '18',\n",
       " '19',\n",
       " '2',\n",
       " '20',\n",
       " '21',\n",
       " '22',\n",
       " '3',\n",
       " '4',\n",
       " '5',\n",
       " '6',\n",
       " '7',\n",
       " '8',\n",
       " '9',\n",
       " 'X',\n",
       " 'Y']"
      ]
     },
     "execution_count": 21,
     "metadata": {},
     "output_type": "execute_result"
    }
   ],
   "source": [
    "list(h5['normalized_counts'].keys())"
   ]
  },
  {
   "cell_type": "code",
   "execution_count": null,
   "metadata": {},
   "outputs": [],
   "source": []
  },
  {
   "cell_type": "code",
   "execution_count": null,
   "metadata": {},
   "outputs": [],
   "source": []
  },
  {
   "cell_type": "code",
   "execution_count": 7,
   "metadata": {},
   "outputs": [
    {
     "data": {
      "text/plain": [
       "(51,)"
      ]
     },
     "execution_count": 7,
     "metadata": {},
     "output_type": "execute_result"
    }
   ],
   "source": [
    "norm_counts[0].shape"
   ]
  },
  {
   "cell_type": "code",
   "execution_count": 21,
   "metadata": {},
   "outputs": [],
   "source": [
    "size = norm_counts[0].shape[0]"
   ]
  },
  {
   "cell_type": "code",
   "execution_count": 26,
   "metadata": {},
   "outputs": [
    {
     "data": {
      "text/plain": [
       "(19, 51)"
      ]
     },
     "execution_count": 26,
     "metadata": {},
     "output_type": "execute_result"
    }
   ],
   "source": [
    "norm_counts.shape"
   ]
  },
  {
   "cell_type": "code",
   "execution_count": 35,
   "metadata": {},
   "outputs": [],
   "source": [
    "mat1 = norm_counts.T"
   ]
  },
  {
   "cell_type": "code",
   "execution_count": 41,
   "metadata": {},
   "outputs": [
    {
     "data": {
      "text/plain": [
       "array([[8.2000e+01, 3.4000e+01, 2.8000e+01, 5.5000e+01, 3.4500e+01,\n",
       "        5.6500e+01, 1.7000e+01, 4.8000e+01, 2.4000e+01, 8.8000e+01,\n",
       "        1.1000e+02, 8.9000e+01, 1.5800e+02, 1.2350e+02, 2.4600e+02,\n",
       "        3.6950e+02, 7.3500e+01, 3.9350e+02, 4.6700e+02],\n",
       "       [7.2500e+01, 3.5000e+01, 3.0000e+01, 6.0500e+01, 4.3000e+01,\n",
       "        6.1500e+01, 2.5000e+01, 5.8000e+01, 2.6000e+01, 8.7500e+01,\n",
       "        1.0250e+02, 9.5500e+01, 1.6050e+02, 1.3850e+02, 2.4800e+02,\n",
       "        3.8650e+02, 8.6500e+01, 4.1250e+02, 4.9900e+02],\n",
       "       [7.1500e+01, 3.7500e+01, 3.2000e+01, 4.8000e+01, 3.3500e+01,\n",
       "        6.1500e+01, 3.7000e+01, 5.2000e+01, 2.7000e+01, 8.1500e+01,\n",
       "        1.0350e+02, 8.5500e+01, 1.5550e+02, 1.1900e+02, 2.3700e+02,\n",
       "        3.5600e+02, 9.8500e+01, 3.8300e+02, 4.8150e+02],\n",
       "       [8.8000e+01, 3.2500e+01, 2.5500e+01, 4.6000e+01, 3.3500e+01,\n",
       "        5.8500e+01, 2.1000e+01, 4.9000e+01, 2.9000e+01, 9.7000e+01,\n",
       "        1.1350e+02, 7.8500e+01, 1.6250e+02, 1.1200e+02, 2.5950e+02,\n",
       "        3.7150e+02, 7.9500e+01, 4.0050e+02, 4.8000e+02],\n",
       "       [8.0500e+01, 2.9000e+01, 3.3500e+01, 4.7500e+01, 2.4000e+01,\n",
       "        5.5000e+01, 2.6000e+01, 4.4500e+01, 3.0500e+01, 8.1500e+01,\n",
       "        1.1400e+02, 7.6500e+01, 1.5850e+02, 1.0050e+02, 2.4000e+02,\n",
       "        3.4050e+02, 8.1000e+01, 3.7100e+02, 4.5200e+02],\n",
       "       [7.5000e+01, 4.1000e+01, 2.6000e+01, 4.8000e+01, 2.5500e+01,\n",
       "        6.8500e+01, 2.4000e+01, 4.0500e+01, 2.3500e+01, 7.5500e+01,\n",
       "        1.0100e+02, 8.9000e+01, 1.4150e+02, 1.1450e+02, 2.1700e+02,\n",
       "        3.3150e+02, 9.2500e+01, 3.5500e+02, 4.4750e+02],\n",
       "       [8.6000e+01, 3.0000e+01, 3.1500e+01, 4.9500e+01, 3.4500e+01,\n",
       "        5.6500e+01, 2.7000e+01, 4.2000e+01, 3.8000e+01, 7.7000e+01,\n",
       "        1.1750e+02, 7.9500e+01, 1.5950e+02, 1.1400e+02, 2.3650e+02,\n",
       "        3.5050e+02, 8.3500e+01, 3.8850e+02, 4.7200e+02],\n",
       "       [8.0000e+01, 2.7000e+01, 3.5500e+01, 5.1000e+01, 2.6000e+01,\n",
       "        5.8500e+01, 3.2000e+01, 5.2000e+01, 3.3000e+01, 7.7000e+01,\n",
       "        1.1550e+02, 7.8000e+01, 1.6750e+02, 1.0400e+02, 2.4450e+02,\n",
       "        3.4850e+02, 9.0500e+01, 3.8150e+02, 4.7200e+02],\n",
       "       [1.0600e+02, 3.8000e+01, 2.1000e+01, 5.0000e+01, 3.1000e+01,\n",
       "        4.9000e+01, 2.8000e+01, 4.0500e+01, 3.0000e+01, 9.2500e+01,\n",
       "        1.2700e+02, 8.8000e+01, 1.6750e+02, 1.1900e+02, 2.6000e+02,\n",
       "        3.7900e+02, 7.7000e+01, 4.0900e+02, 4.8600e+02],\n",
       "       [9.0000e+01, 3.1000e+01, 3.3000e+01, 6.4000e+01, 3.0000e+01,\n",
       "        6.1500e+01, 3.7000e+01, 4.5000e+01, 3.0500e+01, 7.7500e+01,\n",
       "        1.2300e+02, 9.5000e+01, 1.6800e+02, 1.2500e+02, 2.4550e+02,\n",
       "        3.7050e+02, 9.8500e+01, 4.0100e+02, 4.9950e+02],\n",
       "       [7.4000e+01, 3.4000e+01, 3.8000e+01, 5.8000e+01, 3.1000e+01,\n",
       "        5.2000e+01, 2.9000e+01, 5.2000e+01, 3.0500e+01, 6.4000e+01,\n",
       "        1.1200e+02, 9.2000e+01, 1.6400e+02, 1.2300e+02, 2.2800e+02,\n",
       "        3.5100e+02, 8.1000e+01, 3.8150e+02, 4.6250e+02],\n",
       "       [2.3700e+02, 9.7500e+01, 1.0300e+02, 1.4750e+02, 9.5500e+01,\n",
       "        1.7550e+02, 6.9000e+01, 1.3750e+02, 7.4000e+01, 2.1300e+02,\n",
       "        3.4000e+02, 2.4500e+02, 4.7750e+02, 3.4050e+02, 6.9050e+02,\n",
       "        1.0310e+03, 2.4450e+02, 1.1050e+03, 1.3495e+03],\n",
       "       [8.6000e+01, 2.8500e+01, 3.3000e+01, 6.2500e+01, 3.5500e+01,\n",
       "        7.1500e+01, 3.7000e+01, 5.4500e+01, 2.7000e+01, 7.3000e+01,\n",
       "        1.1900e+02, 9.1000e+01, 1.7350e+02, 1.2650e+02, 2.4650e+02,\n",
       "        3.7300e+02, 1.0850e+02, 4.0000e+02, 5.0850e+02],\n",
       "       [8.2000e+01, 3.3000e+01, 3.2500e+01, 7.3500e+01, 4.7000e+01,\n",
       "        6.2000e+01, 2.4000e+01, 6.9000e+01, 4.4000e+01, 7.3000e+01,\n",
       "        1.1450e+02, 1.0650e+02, 1.8350e+02, 1.5350e+02, 2.5650e+02,\n",
       "        4.1000e+02, 8.6000e+01, 4.5400e+02, 5.4000e+02],\n",
       "       [3.0000e+00, 0.0000e+00, 0.0000e+00, 1.0000e+00, 0.0000e+00,\n",
       "        1.0000e+00, 2.0000e+00, 0.0000e+00, 2.0000e+00, 6.0000e+00,\n",
       "        3.0000e+00, 1.0000e+00, 3.0000e+00, 1.0000e+00, 9.0000e+00,\n",
       "        1.0000e+01, 3.0000e+00, 1.2000e+01, 1.5000e+01],\n",
       "       [1.0000e+00, 0.0000e+00, 1.0000e+00, 0.0000e+00, 0.0000e+00,\n",
       "        2.0000e+00, 0.0000e+00, 1.0000e+00, 0.0000e+00, 4.0000e+00,\n",
       "        2.0000e+00, 0.0000e+00, 3.0000e+00, 0.0000e+00, 7.0000e+00,\n",
       "        7.0000e+00, 2.0000e+00, 7.0000e+00, 9.0000e+00],\n",
       "       [1.0000e+00, 0.0000e+00, 0.0000e+00, 0.0000e+00, 0.0000e+00,\n",
       "        0.0000e+00, 0.0000e+00, 0.0000e+00, 0.0000e+00, 0.0000e+00,\n",
       "        1.0000e+00, 0.0000e+00, 1.0000e+00, 0.0000e+00, 1.0000e+00,\n",
       "        1.0000e+00, 0.0000e+00, 1.0000e+00, 1.0000e+00],\n",
       "       [3.5000e+00, 5.5000e+00, 2.0000e+00, 4.0000e+00, 1.0000e+00,\n",
       "        5.0000e+00, 4.0000e+00, 2.0000e+00, 4.0000e+00, 5.0000e+00,\n",
       "        5.5000e+00, 9.5000e+00, 7.5000e+00, 1.0500e+01, 1.2500e+01,\n",
       "        2.3000e+01, 9.0000e+00, 2.7000e+01, 3.6000e+01],\n",
       "       [8.8000e+01, 3.7000e+01, 2.5000e+01, 6.4000e+01, 4.0500e+01,\n",
       "        5.6000e+01, 3.2000e+01, 5.3000e+01, 3.5000e+01, 7.2500e+01,\n",
       "        1.1300e+02, 1.0100e+02, 1.6600e+02, 1.4150e+02, 2.3850e+02,\n",
       "        3.8000e+02, 8.8000e+01, 4.1500e+02, 5.0300e+02],\n",
       "       [1.1900e+02, 7.4000e+01, 4.6000e+01, 8.5000e+01, 5.7000e+01,\n",
       "        8.2000e+01, 5.3000e+01, 7.2000e+01, 5.2000e+01, 1.0300e+02,\n",
       "        1.6500e+02, 1.5900e+02, 2.3700e+02, 2.1600e+02, 3.4000e+02,\n",
       "        5.5600e+02, 1.3500e+02, 6.0800e+02, 7.4300e+02],\n",
       "       [6.8500e+01, 4.1000e+01, 2.5500e+01, 4.4000e+01, 2.9000e+01,\n",
       "        6.2000e+01, 3.0500e+01, 4.9000e+01, 2.5000e+01, 7.8000e+01,\n",
       "        9.4000e+01, 8.5000e+01, 1.4300e+02, 1.1400e+02, 2.2100e+02,\n",
       "        3.3500e+02, 9.2500e+01, 3.6000e+02, 4.5250e+02],\n",
       "       [1.0050e+02, 2.8000e+01, 3.1500e+01, 5.1500e+01, 2.2000e+01,\n",
       "        5.5500e+01, 4.0500e+01, 5.0500e+01, 4.0500e+01, 8.5000e+01,\n",
       "        1.3200e+02, 7.9500e+01, 1.8250e+02, 1.0150e+02, 2.6750e+02,\n",
       "        3.6900e+02, 9.6000e+01, 4.0950e+02, 5.0550e+02],\n",
       "       [8.8500e+01, 3.3000e+01, 2.6000e+01, 6.0000e+01, 3.1000e+01,\n",
       "        7.0000e+01, 2.7000e+01, 4.8500e+01, 3.0000e+01, 7.4000e+01,\n",
       "        1.1450e+02, 9.3000e+01, 1.6300e+02, 1.2400e+02, 2.3700e+02,\n",
       "        3.6100e+02, 9.7000e+01, 3.9100e+02, 4.8800e+02],\n",
       "       [8.4000e+01, 2.9500e+01, 1.9500e+01, 5.1000e+01, 3.7000e+01,\n",
       "        8.0500e+01, 2.2000e+01, 5.0000e+01, 2.6000e+01, 7.3500e+01,\n",
       "        1.0350e+02, 8.0500e+01, 1.5350e+02, 1.1750e+02, 2.2700e+02,\n",
       "        3.4450e+02, 1.0250e+02, 3.7050e+02, 4.7300e+02],\n",
       "       [8.2500e+01, 2.6500e+01, 3.6000e+01, 4.9000e+01, 3.4500e+01,\n",
       "        7.1000e+01, 2.8000e+01, 5.3000e+01, 1.6000e+01, 7.2500e+01,\n",
       "        1.1850e+02, 7.5500e+01, 1.7150e+02, 1.1000e+02, 2.4400e+02,\n",
       "        3.5400e+02, 9.9000e+01, 3.7000e+02, 4.6900e+02],\n",
       "       [7.9500e+01, 3.9000e+01, 3.0000e+01, 4.9000e+01, 3.4500e+01,\n",
       "        6.0000e+01, 2.6000e+01, 5.7000e+01, 2.5500e+01, 8.6500e+01,\n",
       "        1.0950e+02, 8.8000e+01, 1.6650e+02, 1.2250e+02, 2.5300e+02,\n",
       "        3.7550e+02, 8.6000e+01, 4.0100e+02, 4.8700e+02],\n",
       "       [8.1500e+01, 4.1000e+01, 3.7500e+01, 6.2500e+01, 4.9500e+01,\n",
       "        7.7000e+01, 3.8500e+01, 5.6000e+01, 3.4500e+01, 8.0000e+01,\n",
       "        1.1900e+02, 1.0350e+02, 1.7500e+02, 1.5300e+02, 2.5500e+02,\n",
       "        4.0800e+02, 1.1550e+02, 4.4250e+02, 5.5800e+02],\n",
       "       [9.2500e+01, 3.1000e+01, 2.5000e+01, 5.0000e+01, 2.8000e+01,\n",
       "        7.3500e+01, 2.1500e+01, 4.8000e+01, 1.6500e+01, 7.0500e+01,\n",
       "        1.1750e+02, 8.1000e+01, 1.6550e+02, 1.0900e+02, 2.3600e+02,\n",
       "        3.4500e+02, 9.5000e+01, 3.6150e+02, 4.5650e+02],\n",
       "       [5.3000e+01, 1.6000e+01, 1.9000e+01, 4.3000e+01, 1.8000e+01,\n",
       "        3.4000e+01, 1.4000e+01, 3.2500e+01, 2.2500e+01, 4.3000e+01,\n",
       "        7.2000e+01, 5.9000e+01, 1.0450e+02, 7.7000e+01, 1.4750e+02,\n",
       "        2.2450e+02, 4.8000e+01, 2.4700e+02, 2.9500e+02],\n",
       "       [9.1500e+01, 4.1000e+01, 3.9500e+01, 7.0000e+01, 4.6000e+01,\n",
       "        7.1500e+01, 4.0000e+01, 5.4500e+01, 4.0000e+01, 8.3000e+01,\n",
       "        1.3100e+02, 1.1100e+02, 1.8550e+02, 1.5700e+02, 2.6850e+02,\n",
       "        4.2550e+02, 1.1150e+02, 4.6550e+02, 5.7700e+02],\n",
       "       [7.1500e+01, 3.6000e+01, 3.3000e+01, 5.1000e+01, 3.4500e+01,\n",
       "        6.8000e+01, 2.2000e+01, 4.7500e+01, 3.2500e+01, 8.0000e+01,\n",
       "        1.0450e+02, 8.7000e+01, 1.5200e+02, 1.2150e+02, 2.3200e+02,\n",
       "        3.5350e+02, 9.0000e+01, 3.8600e+02, 4.7600e+02],\n",
       "       [1.1550e+02, 3.9500e+01, 2.8000e+01, 5.3500e+01, 3.5500e+01,\n",
       "        7.2500e+01, 2.7000e+01, 5.8000e+01, 2.7500e+01, 8.3500e+01,\n",
       "        1.4350e+02, 9.3000e+01, 2.0150e+02, 1.2850e+02, 2.8500e+02,\n",
       "        4.1350e+02, 9.9500e+01, 4.4100e+02, 5.4050e+02],\n",
       "       [8.3500e+01, 4.5500e+01, 3.5000e+01, 6.3000e+01, 3.4500e+01,\n",
       "        5.7000e+01, 3.4000e+01, 5.0000e+01, 2.8500e+01, 8.3000e+01,\n",
       "        1.1850e+02, 1.0850e+02, 1.6850e+02, 1.4300e+02, 2.5150e+02,\n",
       "        3.9450e+02, 9.1000e+01, 4.2300e+02, 5.1400e+02],\n",
       "       [8.4500e+01, 3.4500e+01, 3.8500e+01, 5.1000e+01, 2.9000e+01,\n",
       "        5.8000e+01, 3.5000e+01, 4.6500e+01, 2.4000e+01, 1.0750e+02,\n",
       "        1.2300e+02, 8.5500e+01, 1.6950e+02, 1.1450e+02, 2.7700e+02,\n",
       "        3.9150e+02, 9.3000e+01, 4.1550e+02, 5.0850e+02],\n",
       "       [7.3500e+01, 2.9500e+01, 2.9000e+01, 5.0500e+01, 3.6000e+01,\n",
       "        7.0000e+01, 2.8500e+01, 5.2000e+01, 3.0500e+01, 6.1000e+01,\n",
       "        1.0250e+02, 8.0000e+01, 1.5450e+02, 1.1600e+02, 2.1550e+02,\n",
       "        3.3150e+02, 9.8500e+01, 3.6200e+02, 4.6050e+02],\n",
       "       [9.8500e+01, 4.3500e+01, 3.3500e+01, 4.4500e+01, 3.3000e+01,\n",
       "        7.0000e+01, 3.6500e+01, 4.9500e+01, 2.9500e+01, 7.0500e+01,\n",
       "        1.3200e+02, 8.8000e+01, 1.8150e+02, 1.2100e+02, 2.5200e+02,\n",
       "        3.7300e+02, 1.0650e+02, 4.0250e+02, 5.0900e+02],\n",
       "       [1.1850e+02, 5.5000e+01, 4.3500e+01, 8.6500e+01, 4.6000e+01,\n",
       "        1.0700e+02, 5.1500e+01, 7.5000e+01, 5.4000e+01, 1.0450e+02,\n",
       "        1.6200e+02, 1.4150e+02, 2.3700e+02, 1.8750e+02, 3.4150e+02,\n",
       "        5.2900e+02, 1.5850e+02, 5.8300e+02, 7.4150e+02],\n",
       "       [8.0500e+01, 5.0500e+01, 3.0000e+01, 6.0000e+01, 3.5000e+01,\n",
       "        6.9500e+01, 3.6500e+01, 6.1000e+01, 4.1000e+01, 8.8500e+01,\n",
       "        1.1050e+02, 1.1050e+02, 1.7150e+02, 1.4550e+02, 2.6000e+02,\n",
       "        4.0550e+02, 1.0600e+02, 4.4650e+02, 5.5250e+02],\n",
       "       [8.7000e+01, 4.6000e+01, 3.2000e+01, 5.4500e+01, 2.9500e+01,\n",
       "        6.6500e+01, 3.5000e+01, 5.1000e+01, 2.1500e+01, 9.1500e+01,\n",
       "        1.1900e+02, 1.0050e+02, 1.7000e+02, 1.3000e+02, 2.6150e+02,\n",
       "        3.9150e+02, 1.0150e+02, 4.1300e+02, 5.1450e+02],\n",
       "       [9.1500e+01, 3.8000e+01, 3.3000e+01, 5.5500e+01, 3.3500e+01,\n",
       "        8.5000e+01, 3.8000e+01, 4.5000e+01, 3.2500e+01, 9.6000e+01,\n",
       "        1.2450e+02, 9.3500e+01, 1.6950e+02, 1.2700e+02, 2.6550e+02,\n",
       "        3.9250e+02, 1.2300e+02, 4.2500e+02, 5.4800e+02],\n",
       "       [8.2000e+01, 3.9000e+01, 2.1000e+01, 4.9500e+01, 4.2000e+01,\n",
       "        5.4000e+01, 1.8000e+01, 4.2500e+01, 3.3500e+01, 8.8500e+01,\n",
       "        1.0300e+02, 8.8500e+01, 1.4550e+02, 1.3050e+02, 2.3400e+02,\n",
       "        3.6450e+02, 7.2000e+01, 3.9800e+02, 4.7000e+02],\n",
       "       [8.8000e+01, 3.5500e+01, 3.8000e+01, 5.3000e+01, 3.2000e+01,\n",
       "        6.4000e+01, 3.6000e+01, 4.8000e+01, 2.3500e+01, 9.5500e+01,\n",
       "        1.2600e+02, 8.8500e+01, 1.7400e+02, 1.2050e+02, 2.6950e+02,\n",
       "        3.9000e+02, 1.0000e+02, 4.1350e+02, 5.1350e+02],\n",
       "       [9.9000e+01, 3.6000e+01, 3.3500e+01, 4.9000e+01, 3.6500e+01,\n",
       "        6.8000e+01, 2.8000e+01, 5.9000e+01, 3.1000e+01, 8.4500e+01,\n",
       "        1.3250e+02, 8.5000e+01, 1.9150e+02, 1.2150e+02, 2.7600e+02,\n",
       "        3.9750e+02, 9.6000e+01, 4.2850e+02, 5.2450e+02],\n",
       "       [1.0150e+02, 3.1500e+01, 2.4500e+01, 5.7000e+01, 3.1000e+01,\n",
       "        6.7500e+01, 2.6000e+01, 5.8000e+01, 1.7500e+01, 7.1000e+01,\n",
       "        1.2600e+02, 8.8500e+01, 1.8400e+02, 1.1950e+02, 2.5500e+02,\n",
       "        3.7450e+02, 9.3500e+01, 3.9200e+02, 4.8550e+02],\n",
       "       [6.6000e+01, 4.0500e+01, 2.8000e+01, 4.1000e+01, 2.6500e+01,\n",
       "        6.8000e+01, 3.8000e+01, 5.0000e+01, 2.9000e+01, 7.9500e+01,\n",
       "        9.4000e+01, 8.1500e+01, 1.4400e+02, 1.0800e+02, 2.2350e+02,\n",
       "        3.3150e+02, 1.0600e+02, 3.6050e+02, 4.6650e+02],\n",
       "       [9.4500e+01, 3.6000e+01, 2.8000e+01, 6.2000e+01, 3.7500e+01,\n",
       "        6.2500e+01, 2.6500e+01, 4.0000e+01, 3.2500e+01, 9.4500e+01,\n",
       "        1.2250e+02, 9.8000e+01, 1.6250e+02, 1.3550e+02, 2.5700e+02,\n",
       "        3.9250e+02, 8.9000e+01, 4.2500e+02, 5.1400e+02],\n",
       "       [8.4500e+01, 4.0500e+01, 3.0500e+01, 5.9500e+01, 3.4000e+01,\n",
       "        5.8000e+01, 3.4000e+01, 5.9000e+01, 3.2000e+01, 9.2000e+01,\n",
       "        1.1500e+02, 1.0000e+02, 1.7400e+02, 1.3400e+02, 2.6600e+02,\n",
       "        4.0000e+02, 9.2000e+01, 4.3200e+02, 5.2400e+02],\n",
       "       [1.0400e+02, 3.5500e+01, 3.7000e+01, 7.9000e+01, 3.6000e+01,\n",
       "        6.9500e+01, 2.5500e+01, 5.0500e+01, 3.7000e+01, 7.0500e+01,\n",
       "        1.4100e+02, 1.1450e+02, 1.9150e+02, 1.5050e+02, 2.6200e+02,\n",
       "        4.1250e+02, 9.5000e+01, 4.4950e+02, 5.4450e+02],\n",
       "       [8.1500e+01, 3.8000e+01, 2.7500e+01, 5.5500e+01, 3.6500e+01,\n",
       "        5.8500e+01, 2.0500e+01, 5.0500e+01, 2.6000e+01, 8.8000e+01,\n",
       "        1.0900e+02, 9.3500e+01, 1.5950e+02, 1.3000e+02, 2.4750e+02,\n",
       "        3.7750e+02, 7.9000e+01, 4.0350e+02, 4.8250e+02],\n",
       "       [8.4500e+01, 3.3000e+01, 3.0500e+01, 5.3000e+01, 3.8000e+01,\n",
       "        8.6000e+01, 3.9000e+01, 5.4500e+01, 3.9000e+01, 8.2500e+01,\n",
       "        1.1500e+02, 8.6000e+01, 1.6950e+02, 1.2400e+02, 2.5200e+02,\n",
       "        3.7600e+02, 1.2500e+02, 4.1500e+02, 5.4000e+02],\n",
       "       [0.0000e+00, 0.0000e+00, 0.0000e+00, 0.0000e+00, 0.0000e+00,\n",
       "        0.0000e+00, 0.0000e+00, 0.0000e+00, 0.0000e+00, 0.0000e+00,\n",
       "        0.0000e+00, 0.0000e+00, 0.0000e+00, 0.0000e+00, 0.0000e+00,\n",
       "        0.0000e+00, 0.0000e+00, 0.0000e+00, 0.0000e+00]], dtype=float32)"
      ]
     },
     "execution_count": 41,
     "metadata": {},
     "output_type": "execute_result"
    }
   ],
   "source": [
    "mat1"
   ]
  },
  {
   "cell_type": "code",
   "execution_count": 48,
   "metadata": {},
   "outputs": [
    {
     "data": {
      "text/plain": [
       "array([1., 0., 0., 0., 0., 0., 0., 0., 0., 0., 1., 0., 1., 0., 1., 1., 0.,\n",
       "       1., 1.], dtype=float32)"
      ]
     },
     "execution_count": 48,
     "metadata": {},
     "output_type": "execute_result"
    }
   ],
   "source": [
    "norm_counts.T[16]"
   ]
  },
  {
   "cell_type": "code",
   "execution_count": null,
   "metadata": {},
   "outputs": [],
   "source": []
  },
  {
   "cell_type": "markdown",
   "metadata": {},
   "source": [
    "### Computing the probabilities"
   ]
  },
  {
   "cell_type": "code",
   "execution_count": 8,
   "metadata": {},
   "outputs": [
    {
     "data": {
      "text/plain": [
       "array([82. , 72.5, 71.5, 88. , 80.5, 75. ], dtype=float32)"
      ]
     },
     "execution_count": 8,
     "metadata": {},
     "output_type": "execute_result"
    }
   ],
   "source": [
    "# consider cell 0 and bins 0:6\n",
    "norm_counts[0][0:6]"
   ]
  },
  {
   "cell_type": "code",
   "execution_count": 26,
   "metadata": {},
   "outputs": [
    {
     "data": {
      "text/plain": [
       "(19, 51)"
      ]
     },
     "execution_count": 26,
     "metadata": {},
     "output_type": "execute_result"
    }
   ],
   "source": [
    "norm_counts.shape"
   ]
  },
  {
   "cell_type": "code",
   "execution_count": 27,
   "metadata": {},
   "outputs": [],
   "source": [
    "# np.savetxt('norm_counts.tsv',norm_counts)"
   ]
  },
  {
   "cell_type": "code",
   "execution_count": null,
   "metadata": {},
   "outputs": [],
   "source": []
  },
  {
   "cell_type": "code",
   "execution_count": null,
   "metadata": {},
   "outputs": [],
   "source": []
  },
  {
   "cell_type": "code",
   "execution_count": 9,
   "metadata": {},
   "outputs": [
    {
     "data": {
      "image/png": "[encoded data removed]",
      "text/plain": [
       "<Figure size 842.4x595.44 with 2 Axes>"
      ]
     },
     "metadata": {},
     "output_type": "display_data"
    }
   ],
   "source": [
    "ax = sns.heatmap(norm_counts.T)"
   ]
  },
  {
   "cell_type": "code",
   "execution_count": 10,
   "metadata": {},
   "outputs": [
    {
     "data": {
      "text/plain": [
       "{'bin_size': 20000,\n",
       " 'chroms': array([b'mg1655_chr1'], dtype='|S11'),\n",
       " 'num_bins_per_chrom': array([51]),\n",
       " 'num_cells': 10,\n",
       " 'num_chroms': 1,\n",
       " 'num_nodes': 19}"
      ]
     },
     "execution_count": 10,
     "metadata": {},
     "output_type": "execute_result"
    }
   ],
   "source": [
    "dd['constants']"
   ]
  },
  {
   "cell_type": "code",
   "execution_count": 12,
   "metadata": {},
   "outputs": [],
   "source": [
    "cnv_profile = dd['cnvs']['mg1655_chr1']"
   ]
  },
  {
   "cell_type": "code",
   "execution_count": 13,
   "metadata": {},
   "outputs": [],
   "source": [
    "cnv_profile = cnv_profile[0:19, 0:50]"
   ]
  },
  {
   "cell_type": "code",
   "execution_count": 14,
   "metadata": {},
   "outputs": [
    {
     "data": {
      "text/plain": [
       "(19, 50)"
      ]
     },
     "execution_count": 14,
     "metadata": {},
     "output_type": "execute_result"
    }
   ],
   "source": [
    "cnv_profile.shape"
   ]
  },
  {
   "cell_type": "code",
   "execution_count": 15,
   "metadata": {},
   "outputs": [
    {
     "data": {
      "image/png": "[encoded data removed]",
      "text/plain": [
       "<Figure size 842.4x595.44 with 2 Axes>"
      ]
     },
     "metadata": {},
     "output_type": "display_data"
    }
   ],
   "source": [
    "ax = sns.heatmap(cnv_profile.T)"
   ]
  },
  {
   "cell_type": "code",
   "execution_count": 16,
   "metadata": {},
   "outputs": [
    {
     "data": {
      "text/plain": [
       "array([[1, 0, 1, 0, 0, 0, 0, 0, 0, 0],\n",
       "       [0, 1, 0, 1, 0, 0, 0, 0, 0, 0],\n",
       "       [1, 0, 1, 0, 0, 0, 0, 1, 0, 0],\n",
       "       [0, 1, 0, 1, 1, 0, 0, 0, 0, 0],\n",
       "       [1, 0, 1, 0, 0, 0, 0, 1, 0, 1],\n",
       "       [1, 1, 1, 1, 1, 0, 0, 1, 0, 1],\n",
       "       [0, 0, 0, 0, 0, 1, 1, 0, 0, 0],\n",
       "       [1, 1, 1, 1, 1, 0, 0, 1, 1, 1],\n",
       "       [1, 1, 1, 1, 1, 1, 1, 1, 1, 1]], dtype=int32)"
      ]
     },
     "execution_count": 16,
     "metadata": {},
     "output_type": "execute_result"
    }
   ],
   "source": [
    "dd['tree']['is_cell_in_group']"
   ]
  },
  {
   "cell_type": "code",
   "execution_count": 17,
   "metadata": {},
   "outputs": [
    {
     "data": {
      "text/plain": [
       "(9, 10)"
      ]
     },
     "execution_count": 17,
     "metadata": {},
     "output_type": "execute_result"
    }
   ],
   "source": [
    "dd['tree']['is_cell_in_group'].shape"
   ]
  },
  {
   "cell_type": "code",
   "execution_count": 18,
   "metadata": {},
   "outputs": [
    {
     "data": {
      "text/plain": [
       "{'gc_fraction': {'mg1655_chr1': array([0.51005, 0.52925, 0.52165, 0.5459 , 0.5224 , 0.5224 , 0.525  ,\n",
       "         0.47755, 0.5397 , 0.5097 , 0.52965, 0.48765, 0.50945, 0.53125,\n",
       "         0.5469 , 0.4802 , 0.5109 , 0.5304 , 0.53915, 0.4965 , 0.512  ,\n",
       "         0.5242 , 0.51335, 0.51315, 0.5244 , 0.52945, 0.51185, 0.51835,\n",
       "         0.4463 , 0.4944 , 0.52165, 0.53   , 0.5024 , 0.49905, 0.5167 ,\n",
       "         0.49975, 0.51945, 0.51495, 0.51285, 0.51155, 0.52145, 0.5326 ,\n",
       "         0.50655, 0.5089 , 0.5087 , 0.52675, 0.51895, 0.4903 , 0.52195,\n",
       "         0.50155, 0.5    ])},\n",
       " 'is_mappable': {'mg1655_chr1': array([ True,  True,  True,  True,  True,  True,  True,  True,  True,\n",
       "          True,  True,  True,  True,  True,  True,  True,  True,  True,\n",
       "          True,  True,  True,  True,  True,  True,  True,  True,  True,\n",
       "          True,  True,  True,  True,  True,  True,  True,  True,  True,\n",
       "          True,  True,  True,  True,  True,  True,  True,  True,  True,\n",
       "          True,  True,  True,  True,  True, False])},\n",
       " 'mappability': {'mg1655_chr1': array([0.93301435, 0.99521531, 1.        , 1.        , 1.        ,\n",
       "         0.99760766, 1.        , 1.        , 1.        , 0.99760766,\n",
       "         0.99760766, 0.99760766, 1.        , 0.94497608, 0.97607656,\n",
       "         0.95454545, 1.        , 0.99760766, 1.        , 0.94497608,\n",
       "         1.        , 0.99760766, 1.        , 0.99760766, 1.        ,\n",
       "         0.99521531, 1.        , 1.        , 0.93062201, 0.99760766,\n",
       "         0.94976077, 0.99760766, 0.99521531, 1.        , 0.94736842,\n",
       "         1.        , 0.96411483, 1.        , 0.99760766, 0.99760766,\n",
       "         1.        , 1.        , 0.99521531, 1.        , 0.99760766,\n",
       "         1.        , 1.        , 1.        , 0.99760766, 0.9784689 ,\n",
       "         0.        ])},\n",
       " 'n_fraction': {'mg1655_chr1': array([0., 0., 0., 0., 0., 0., 0., 0., 0., 0., 0., 0., 0., 0., 0., 0., 0.,\n",
       "         0., 0., 0., 0., 0., 0., 0., 0., 0., 0., 0., 0., 0., 0., 0., 0., 0.,\n",
       "         0., 0., 0., 0., 0., 0., 0., 0., 0., 0., 0., 0., 0., 0., 0., 0., 0.])}}"
      ]
     },
     "execution_count": 18,
     "metadata": {},
     "output_type": "execute_result"
    }
   ],
   "source": [
    "dd['genome_tracks']"
   ]
  },
  {
   "cell_type": "code",
   "execution_count": 25,
   "metadata": {},
   "outputs": [],
   "source": [
    "tree = dd['tree']"
   ]
  },
  {
   "cell_type": "code",
   "execution_count": 27,
   "metadata": {},
   "outputs": [],
   "source": [
    "Z = tree['Z']"
   ]
  },
  {
   "cell_type": "code",
   "execution_count": 28,
   "metadata": {},
   "outputs": [
    {
     "data": {
      "text/plain": [
       "array([ 34., 105.,   7.,   2.], dtype=float32)"
      ]
     },
     "execution_count": 28,
     "metadata": {},
     "output_type": "execute_result"
    }
   ],
   "source": [
    "Z[0]"
   ]
  },
  {
   "cell_type": "code",
   "execution_count": 29,
   "metadata": {},
   "outputs": [],
   "source": [
    "Z = Z.astype(np.float64, copy=False)"
   ]
  },
  {
   "cell_type": "code",
   "execution_count": 77,
   "metadata": {},
   "outputs": [
    {
     "data": {
      "image/png": "[encoded data removed]",
      "text/plain": [
       "<Figure size 1800x720 with 1 Axes>"
      ]
     },
     "metadata": {},
     "output_type": "display_data"
    }
   ],
   "source": [
    "# calculate full dendrogram\n",
    "plt.figure(figsize=(25, 10))\n",
    "plt.title('Hierarchical Clustering Dendrogram')\n",
    "plt.xlabel('cells')\n",
    "plt.ylabel('distance')\n",
    "dendrogram(\n",
    "    Z,\n",
    "    truncate_mode='lastp',\n",
    "    p=12,\n",
    "    leaf_rotation=90.,\n",
    "    leaf_font_size=12.,\n",
    "    show_contracted=True\n",
    ")\n",
    "plt.show()"
   ]
  },
  {
   "cell_type": "code",
   "execution_count": null,
   "metadata": {},
   "outputs": [],
   "source": []
  },
  {
   "cell_type": "code",
   "execution_count": null,
   "metadata": {},
   "outputs": [],
   "source": []
  }
 ],
 "metadata": {
  "kernelspec": {
   "display_name": "Python 3",
   "language": "python",
   "name": "python3"
  },
  "language_info": {
   "codemirror_mode": {
    "name": "ipython",
    "version": 3
   },
   "file_extension": ".py",
   "mimetype": "text/x-python",
   "name": "python",
   "nbconvert_exporter": "python",
   "pygments_lexer": "ipython3",
   "version": "3.6.3"
  },
  "varInspector": {
   "cols": {
    "lenName": 16,
    "lenType": 16,
    "lenVar": 40
   },
   "kernels_config": {
    "python": {
     "delete_cmd_postfix": "",
     "delete_cmd_prefix": "del ",
     "library": "var_list.py",
     "varRefreshCmd": "print(var_dic_list())"
    },
    "r": {
     "delete_cmd_postfix": ") ",
     "delete_cmd_prefix": "rm(",
     "library": "var_list.r",
     "varRefreshCmd": "cat(var_dic_list()) "
    }
   },
   "types_to_exclude": [
    "module",
    "function",
    "builtin_function_or_method",
    "instance",
    "_Feature"
   ],
   "window_display": false
  }
 },
 "nbformat": 4,
 "nbformat_minor": 2
}
