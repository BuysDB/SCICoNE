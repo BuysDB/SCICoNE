{
 "cells": [
  {
   "cell_type": "code",
   "execution_count": 20,
   "metadata": {},
   "outputs": [],
   "source": [
    "import seaborn as sns; sns.set()"
   ]
  },
  {
   "cell_type": "code",
   "execution_count": 30,
   "metadata": {},
   "outputs": [],
   "source": [
    "import h5py\n",
    "from matplotlib import pyplot as plt\n",
    "from scipy.cluster.hierarchy import dendrogram, linkage\n",
    "import numpy as np\n",
    "%matplotlib inline\n",
    "sns.set(rc={'figure.figsize':(11.7,8.27)})"
   ]
  },
  {
   "cell_type": "code",
   "execution_count": 2,
   "metadata": {},
   "outputs": [],
   "source": [
    "def load_dict_from_hdf5(filename):\n",
    "    \"\"\"\n",
    "    ....\n",
    "    \"\"\"\n",
    "    with h5py.File(filename, 'r') as h5file:\n",
    "        return recursively_load_dict_contents_from_group(h5file, '/')\n",
    "\n",
    "def recursively_load_dict_contents_from_group(h5file, path):\n",
    "    \"\"\"\n",
    "    ....\n",
    "    \"\"\"\n",
    "    ans = {}\n",
    "    for key, item in h5file[path].items():\n",
    "        if isinstance(item, h5py._hl.dataset.Dataset):\n",
    "            try:\n",
    "                ans[key] = item.value\n",
    "            except:\n",
    "                ans[key] = None\n",
    "        elif isinstance(item, h5py._hl.group.Group):\n",
    "            ans[key] = recursively_load_dict_contents_from_group(h5file, path + key + '/')\n",
    "    return ans\n"
   ]
  },
  {
   "cell_type": "code",
   "execution_count": 3,
   "metadata": {},
   "outputs": [],
   "source": [
    "dd = load_dict_from_hdf5('./cnv_data.h5')"
   ]
  },
  {
   "cell_type": "code",
   "execution_count": null,
   "metadata": {},
   "outputs": [],
   "source": []
  },
  {
   "cell_type": "code",
   "execution_count": 32,
   "metadata": {
    "scrolled": false
   },
   "outputs": [],
   "source": [
    "norm_counts = dd['normalized_counts']['mg1655_chr1']"
   ]
  },
  {
   "cell_type": "code",
   "execution_count": 33,
   "metadata": {},
   "outputs": [
    {
     "data": {
      "text/plain": [
       "(19, 51)"
      ]
     },
     "execution_count": 33,
     "metadata": {},
     "output_type": "execute_result"
    }
   ],
   "source": [
    "norm_counts.shape"
   ]
  },
  {
   "cell_type": "code",
   "execution_count": 36,
   "metadata": {},
   "outputs": [
    {
     "data": {
      "image/png": "[encoded data removed]",
      "text/plain": [
       "<Figure size 842.4x595.44 with 2 Axes>"
      ]
     },
     "metadata": {},
     "output_type": "display_data"
    }
   ],
   "source": [
    "ax = sns.heatmap(norm_counts.T)"
   ]
  },
  {
   "cell_type": "code",
   "execution_count": 5,
   "metadata": {},
   "outputs": [
    {
     "data": {
      "text/plain": [
       "{'bin_size': 20000,\n",
       " 'chroms': array([b'mg1655_chr1'], dtype='|S11'),\n",
       " 'num_bins_per_chrom': array([51]),\n",
       " 'num_cells': 10,\n",
       " 'num_chroms': 1,\n",
       " 'num_nodes': 19}"
      ]
     },
     "execution_count": 5,
     "metadata": {},
     "output_type": "execute_result"
    }
   ],
   "source": [
    "dd['constants']"
   ]
  },
  {
   "cell_type": "code",
   "execution_count": 45,
   "metadata": {},
   "outputs": [
    {
     "data": {
      "text/plain": [
       "{'mg1655_chr1': array([[   1,    1,    1,    1,    1,    1,    1,    1,    1,    1,    1,\n",
       "            2,    2,    1,    0,    0,    0,    0,    1,    1,    1,    1,\n",
       "            1,    1,    1,    1,    1,    1,    1,    1,    1,    1,    1,\n",
       "            1,    1,    1,    1,    1,    1,    1,    1,    1,    1,    1,\n",
       "            1,    1,    1,    1,    1,    1, -128],\n",
       "        [   1,    1,    1,    1,    1,    1,    1,    1,    1,    1,    1,\n",
       "            2,    2,    1,    0,    0,    0,    0,    2,    2,    1,    1,\n",
       "            1,    1,    1,    1,    1,    1,    1,    1,    1,    1,    1,\n",
       "            1,    1,    1,    1,    1,    1,    1,    1,    1,    1,    1,\n",
       "            1,    1,    1,    1,    1,    1, -128],\n",
       "        [   1,    1,    1,    1,    1,    1,    1,    1,    1,    1,    2,\n",
       "            2,    1,    1,    0,    0,    0,    0,    1,    1,    1,    1,\n",
       "            1,    1,    1,    1,    1,    1,    1,    1,    1,    1,    1,\n",
       "            1,    1,    1,    1,    1,    1,    1,    1,    1,    1,    1,\n",
       "            1,    1,    1,    1,    1,    1, -128],\n",
       "        [   1,    1,    1,    1,    1,    1,    1,    1,    1,    1,    1,\n",
       "            2,    2,    2,    0,    0,    0,    1,    1,    2,    1,    1,\n",
       "            1,    1,    1,    1,    1,    1,    1,    1,    1,    1,    1,\n",
       "            1,    1,    1,    1,    1,    1,    1,    1,    1,    1,    1,\n",
       "            1,    1,    1,    1,    1,    1, -128],\n",
       "        [   1,    1,    1,    1,    1,    1,    1,    1,    1,    1,    1,\n",
       "            2,    2,    2,    0,    0,    0,    1,    1,    2,    1,    1,\n",
       "            1,    1,    1,    1,    1,    1,    1,    1,    1,    1,    1,\n",
       "            1,    1,    1,    1,    1,    1,    1,    1,    1,    1,    1,\n",
       "            1,    1,    1,    1,    1,    1, -128],\n",
       "        [   6,    6,    6,    6,    6,    6,    6,    6,    6,    6,    6,\n",
       "           11,   11,   11,    0,    0,    0,    1,    7,    7,    7,    7,\n",
       "            7,    7,    7,    7,    7,    7,    7,    7,    7,    7,    7,\n",
       "            7,    7,    7,    7,    7,    7,    7,    7,    7,    7,    7,\n",
       "            7,    7,    7,    7,    7,    7, -128],\n",
       "        [   7,    7,    7,    7,    7,    7,    7,    7,    7,    7,    7,\n",
       "           13,   13,    6,    0,    0,    0,    0,    8,    8,    8,    8,\n",
       "            8,    8,    8,    8,    8,    8,    8,    8,    8,    8,    8,\n",
       "            8,    8,    8,    8,    8,    8,    8,    8,    8,    8,    8,\n",
       "            8,    8,    8,    8,    8,    8, -128],\n",
       "        [   1,    1,    1,    1,    1,    1,    1,    1,    1,    1,    1,\n",
       "            2,    2,    2,    0,    0,    0,    0,    1,    1,    1,    1,\n",
       "            1,    1,    1,    1,    1,    1,    1,    1,    1,    1,    1,\n",
       "            1,    1,    1,    1,    1,    1,    1,    1,    1,    1,    1,\n",
       "            1,    1,    1,    1,    1,    1, -128],\n",
       "        [   4,    4,    4,    4,    4,    4,    4,    4,    4,    4,    4,\n",
       "            6,    6,    6,    0,    0,    0,    3,    3,    7,    4,    4,\n",
       "            4,    4,    4,    4,    4,    4,    4,    4,    4,    4,    4,\n",
       "            4,    4,    4,    4,    4,    4,    4,    4,    4,    4,    4,\n",
       "            4,    4,    4,    4,    4,    4, -128],\n",
       "        [   1,    1,    1,    1,    1,    1,    1,    1,    1,    1,    1,\n",
       "            2,    2,    1,    0,    0,    0,    0,    1,    1,    1,    1,\n",
       "            1,    1,    1,    1,    1,    1,    1,    1,    1,    1,    1,\n",
       "            1,    1,    1,    1,    1,    1,    1,    1,    1,    1,    1,\n",
       "            1,    1,    1,    1,    1,    1, -128],\n",
       "        [   1,    1,    1,    1,    1,    1,    1,    1,    1,    1,    1,\n",
       "            2,    2,    1,    0,    0,    0,    0,    1,    1,    1,    1,\n",
       "            1,    1,    1,    1,    1,    1,    1,    1,    1,    1,    1,\n",
       "            1,    1,    1,    1,    1,    1,    1,    1,    1,    1,    1,\n",
       "            1,    1,    1,    1,    1,    1, -128],\n",
       "        [   1,    1,    1,    1,    1,    1,    1,    1,    1,    1,    1,\n",
       "            2,    2,    2,    0,    0,    0,    0,    1,    1,    1,    1,\n",
       "            1,    1,    1,    1,    1,    1,    1,    1,    1,    1,    1,\n",
       "            1,    1,    1,    1,    1,    1,    1,    1,    1,    1,    1,\n",
       "            1,    1,    1,    1,    1,    1, -128],\n",
       "        [   1,    1,    1,    1,    1,    1,    1,    1,    1,    1,    1,\n",
       "            2,    2,    2,    0,    0,    0,    1,    1,    1,    1,    1,\n",
       "            1,    1,    1,    1,    1,    1,    1,    1,    1,    1,    1,\n",
       "            1,    1,    1,    1,    1,    1,    1,    1,    1,    1,    1,\n",
       "            1,    1,    1,    1,    1,    1, -128],\n",
       "        [   1,    1,    1,    1,    1,    1,    1,    1,    1,    1,    1,\n",
       "            2,    2,    2,    0,    0,    0,    1,    1,    2,    1,    1,\n",
       "            1,    1,    1,    1,    1,    1,    1,    1,    1,    1,    1,\n",
       "            1,    1,    1,    1,    1,    1,    1,    1,    1,    1,    1,\n",
       "            1,    1,    1,    1,    1,    1, -128],\n",
       "        [   1,    1,    1,    1,    1,    1,    1,    1,    1,    1,    1,\n",
       "            2,    2,    2,    0,    0,    0,    0,    0,    1,    1,    1,\n",
       "            1,    1,    1,    1,    1,    1,    1,    1,    1,    1,    1,\n",
       "            1,    1,    1,    1,    1,    1,    1,    1,    1,    1,    1,\n",
       "            1,    1,    1,    1,    1,    1, -128],\n",
       "        [   1,    1,    1,    1,    1,    1,    1,    1,    1,    1,    1,\n",
       "            2,    2,    2,    0,    0,    0,    1,    1,    1,    1,    1,\n",
       "            1,    1,    1,    1,    1,    1,    1,    1,    1,    1,    1,\n",
       "            1,    1,    1,    1,    1,    1,    1,    1,    1,    1,    1,\n",
       "            1,    1,    1,    1,    1,    1, -128],\n",
       "        [   5,    5,    5,    5,    5,    5,    5,    5,    5,    6,    6,\n",
       "            9,    9,    9,    0,    0,    0,    3,    3,    8,    6,    6,\n",
       "            6,    6,    6,    6,    6,    6,    6,    6,    6,    6,    6,\n",
       "            6,    6,    6,   10,    6,    6,    6,    6,    6,    6,    6,\n",
       "            6,    6,    6,    6,    6,    6, -128],\n",
       "        [   1,    1,    1,    1,    1,    1,    1,    1,    1,    1,    1,\n",
       "            2,    2,    2,    0,    0,    0,    1,    1,    1,    1,    1,\n",
       "            1,    1,    1,    1,    1,    1,    1,    1,    1,    1,    1,\n",
       "            1,    1,    1,    1,    1,    1,    1,    1,    1,    1,    1,\n",
       "            1,    1,    1,    1,    1,    1, -128],\n",
       "        [   1,    1,    1,    1,    1,    1,    1,    1,    1,    1,    1,\n",
       "            2,    2,    2,    0,    0,    0,    1,    1,    1,    1,    1,\n",
       "            1,    1,    1,    1,    1,    1,    1,    1,    1,    1,    1,\n",
       "            1,    1,    1,    1,    1,    1,    1,    1,    1,    1,    1,\n",
       "            1,    1,    1,    1,    1,    1, -128]], dtype=int32)}"
      ]
     },
     "execution_count": 45,
     "metadata": {},
     "output_type": "execute_result"
    }
   ],
   "source": [
    "dd['cnvs']"
   ]
  },
  {
   "cell_type": "code",
   "execution_count": 21,
   "metadata": {},
   "outputs": [],
   "source": [
    "cnv_profile = dd['cnvs']['mg1655_chr1']"
   ]
  },
  {
   "cell_type": "code",
   "execution_count": 27,
   "metadata": {},
   "outputs": [],
   "source": [
    "cnv_profile = cnv_profile[0:19, 0:50]"
   ]
  },
  {
   "cell_type": "code",
   "execution_count": 40,
   "metadata": {},
   "outputs": [
    {
     "data": {
      "text/plain": [
       "(19, 50)"
      ]
     },
     "execution_count": 40,
     "metadata": {},
     "output_type": "execute_result"
    }
   ],
   "source": [
    "cnv_profile.shape"
   ]
  },
  {
   "cell_type": "code",
   "execution_count": 31,
   "metadata": {},
   "outputs": [
    {
     "data": {
      "image/png": "[encoded data removed]",
      "text/plain": [
       "<Figure size 842.4x595.44 with 2 Axes>"
      ]
     },
     "metadata": {},
     "output_type": "display_data"
    }
   ],
   "source": [
    "ax = sns.heatmap(cnv_profile.T)"
   ]
  },
  {
   "cell_type": "code",
   "execution_count": 44,
   "metadata": {},
   "outputs": [
    {
     "data": {
      "text/plain": [
       "array([[1, 0, 1, 0, 0, 0, 0, 0, 0, 0],\n",
       "       [0, 1, 0, 1, 0, 0, 0, 0, 0, 0],\n",
       "       [1, 0, 1, 0, 0, 0, 0, 1, 0, 0],\n",
       "       [0, 1, 0, 1, 1, 0, 0, 0, 0, 0],\n",
       "       [1, 0, 1, 0, 0, 0, 0, 1, 0, 1],\n",
       "       [1, 1, 1, 1, 1, 0, 0, 1, 0, 1],\n",
       "       [0, 0, 0, 0, 0, 1, 1, 0, 0, 0],\n",
       "       [1, 1, 1, 1, 1, 0, 0, 1, 1, 1],\n",
       "       [1, 1, 1, 1, 1, 1, 1, 1, 1, 1]], dtype=int32)"
      ]
     },
     "execution_count": 44,
     "metadata": {},
     "output_type": "execute_result"
    }
   ],
   "source": [
    "dd['tree']['is_cell_in_group']"
   ]
  },
  {
   "cell_type": "code",
   "execution_count": 43,
   "metadata": {},
   "outputs": [
    {
     "data": {
      "text/plain": [
       "(9, 10)"
      ]
     },
     "execution_count": 43,
     "metadata": {},
     "output_type": "execute_result"
    }
   ],
   "source": [
    "dd['tree']['is_cell_in_group'].shape"
   ]
  },
  {
   "cell_type": "code",
   "execution_count": 13,
   "metadata": {},
   "outputs": [
    {
     "data": {
      "text/plain": [
       "{'gc_fraction': {'mg1655_chr1': array([0.51005, 0.52925, 0.52165, 0.5459 , 0.5224 , 0.5224 , 0.525  ,\n",
       "         0.47755, 0.5397 , 0.5097 , 0.52965, 0.48765, 0.50945, 0.53125,\n",
       "         0.5469 , 0.4802 , 0.5109 , 0.5304 , 0.53915, 0.4965 , 0.512  ,\n",
       "         0.5242 , 0.51335, 0.51315, 0.5244 , 0.52945, 0.51185, 0.51835,\n",
       "         0.4463 , 0.4944 , 0.52165, 0.53   , 0.5024 , 0.49905, 0.5167 ,\n",
       "         0.49975, 0.51945, 0.51495, 0.51285, 0.51155, 0.52145, 0.5326 ,\n",
       "         0.50655, 0.5089 , 0.5087 , 0.52675, 0.51895, 0.4903 , 0.52195,\n",
       "         0.50155, 0.5    ])},\n",
       " 'is_mappable': {'mg1655_chr1': array([ True,  True,  True,  True,  True,  True,  True,  True,  True,\n",
       "          True,  True,  True,  True,  True,  True,  True,  True,  True,\n",
       "          True,  True,  True,  True,  True,  True,  True,  True,  True,\n",
       "          True,  True,  True,  True,  True,  True,  True,  True,  True,\n",
       "          True,  True,  True,  True,  True,  True,  True,  True,  True,\n",
       "          True,  True,  True,  True,  True, False])},\n",
       " 'mappability': {'mg1655_chr1': array([0.93301435, 0.99521531, 1.        , 1.        , 1.        ,\n",
       "         0.99760766, 1.        , 1.        , 1.        , 0.99760766,\n",
       "         0.99760766, 0.99760766, 1.        , 0.94497608, 0.97607656,\n",
       "         0.95454545, 1.        , 0.99760766, 1.        , 0.94497608,\n",
       "         1.        , 0.99760766, 1.        , 0.99760766, 1.        ,\n",
       "         0.99521531, 1.        , 1.        , 0.93062201, 0.99760766,\n",
       "         0.94976077, 0.99760766, 0.99521531, 1.        , 0.94736842,\n",
       "         1.        , 0.96411483, 1.        , 0.99760766, 0.99760766,\n",
       "         1.        , 1.        , 0.99521531, 1.        , 0.99760766,\n",
       "         1.        , 1.        , 1.        , 0.99760766, 0.9784689 ,\n",
       "         0.        ])},\n",
       " 'n_fraction': {'mg1655_chr1': array([0., 0., 0., 0., 0., 0., 0., 0., 0., 0., 0., 0., 0., 0., 0., 0., 0.,\n",
       "         0., 0., 0., 0., 0., 0., 0., 0., 0., 0., 0., 0., 0., 0., 0., 0., 0.,\n",
       "         0., 0., 0., 0., 0., 0., 0., 0., 0., 0., 0., 0., 0., 0., 0., 0., 0.])}}"
      ]
     },
     "execution_count": 13,
     "metadata": {},
     "output_type": "execute_result"
    }
   ],
   "source": [
    "dd['genome_tracks']"
   ]
  },
  {
   "cell_type": "code",
   "execution_count": 7,
   "metadata": {},
   "outputs": [],
   "source": [
    "tree = dd['tree']"
   ]
  },
  {
   "cell_type": "code",
   "execution_count": 8,
   "metadata": {
    "scrolled": true
   },
   "outputs": [
    {
     "data": {
      "text/plain": [
       "{'Z': array([[ 0.,  2.,  0.,  2.],\n",
       "        [ 1.,  3.,  0.,  2.],\n",
       "        [ 7., 10.,  0.,  3.],\n",
       "        [ 4., 11.,  0.,  3.],\n",
       "        [ 9., 12.,  0.,  4.],\n",
       "        [13., 14.,  1.,  7.],\n",
       "        [ 5.,  6.,  8.,  2.],\n",
       "        [ 8., 15., 30.,  8.],\n",
       "        [16., 17., 64., 10.]], dtype=float32),\n",
       " 'heterogeneity': {'mg1655_chr1': array([[ 0.        ,  0.        ,  0.        ,  0.        ,  0.        ,\n",
       "           0.        ,  0.        , -0.        , -0.        , -0.        ,\n",
       "          -0.5       , -0.        , -0.5       , -0.        , -0.        ,\n",
       "          -0.        , -0.        , -0.        , -0.        , -0.        ,\n",
       "           0.        ,  0.        ,  0.        ,  0.        ,  0.        ,\n",
       "           0.        ,  0.        ,  0.        ,  0.        ,  0.        ,\n",
       "           0.        ,  0.        ,  0.        ,  0.        ,  0.        ,\n",
       "           0.        ,  0.        ,  0.        ,  0.        ,  0.        ,\n",
       "           0.        ,  0.        ,  0.        ,  0.        ,  0.        ,\n",
       "           0.        ,  0.        ,  0.        ,  0.        ,  0.        ,\n",
       "          -1.        ],\n",
       "         [ 0.        ,  0.        ,  0.        ,  0.        ,  0.        ,\n",
       "           0.        ,  0.        , -0.        , -0.        , -0.        ,\n",
       "          -0.        , -0.        , -0.        , -0.5       , -0.        ,\n",
       "          -0.        , -0.        , -0.5       , -0.5       , -0.        ,\n",
       "           0.        ,  0.        ,  0.        ,  0.        ,  0.        ,\n",
       "           0.        ,  0.        ,  0.        ,  0.        ,  0.        ,\n",
       "           0.        ,  0.        ,  0.        ,  0.        ,  0.        ,\n",
       "           0.        ,  0.        ,  0.        ,  0.        ,  0.        ,\n",
       "           0.        ,  0.        ,  0.        ,  0.        ,  0.        ,\n",
       "           0.        ,  0.        ,  0.        ,  0.        ,  0.        ,\n",
       "          -1.        ],\n",
       "         [ 0.        ,  0.        ,  0.        ,  0.        ,  0.        ,\n",
       "           0.        ,  0.        , -0.        , -0.        , -0.        ,\n",
       "          -0.33333334, -0.        , -0.33333334, -0.33333334, -0.        ,\n",
       "          -0.        , -0.        , -0.        , -0.        ,  0.        ,\n",
       "           0.        ,  0.        ,  0.        ,  0.        ,  0.        ,\n",
       "           0.        ,  0.        ,  0.        ,  0.        ,  0.        ,\n",
       "           0.        ,  0.        ,  0.        ,  0.        ,  0.        ,\n",
       "           0.        ,  0.        ,  0.        ,  0.        ,  0.        ,\n",
       "           0.        ,  0.        ,  0.        ,  0.        ,  0.        ,\n",
       "           0.        ,  0.        ,  0.        ,  0.        ,  0.        ,\n",
       "          -1.        ],\n",
       "         [ 0.        ,  0.        ,  0.        ,  0.        ,  0.        ,\n",
       "           0.        ,  0.        , -0.        , -0.        , -0.        ,\n",
       "          -0.        , -0.        , -0.        , -0.33333334, -0.        ,\n",
       "          -0.        , -0.        , -0.33333334, -0.33333334, -0.        ,\n",
       "          -0.        , -0.        ,  0.        ,  0.        ,  0.        ,\n",
       "           0.        ,  0.        ,  0.        ,  0.        ,  0.        ,\n",
       "           0.        ,  0.        ,  0.        ,  0.        ,  0.        ,\n",
       "           0.        ,  0.        ,  0.        ,  0.        ,  0.        ,\n",
       "           0.        ,  0.        ,  0.        ,  0.        ,  0.        ,\n",
       "           0.        ,  0.        ,  0.        ,  0.        ,  0.        ,\n",
       "          -1.        ],\n",
       "         [ 0.        ,  0.        ,  0.        ,  0.        ,  0.        ,\n",
       "           0.        ,  0.        , -0.        , -0.        , -0.        ,\n",
       "          -0.25      , -0.        , -0.25      , -0.25      , -0.        ,\n",
       "          -0.        , -0.        , -0.        , -0.        , -0.        ,\n",
       "          -0.        ,  0.        ,  0.        ,  0.        ,  0.        ,\n",
       "           0.        ,  0.        ,  0.        ,  0.        ,  0.        ,\n",
       "           0.        ,  0.        ,  0.        ,  0.        ,  0.        ,\n",
       "           0.        ,  0.        ,  0.        ,  0.        ,  0.        ,\n",
       "           0.        ,  0.        ,  0.        ,  0.        ,  0.        ,\n",
       "           0.        ,  0.        ,  0.        ,  0.        ,  0.        ,\n",
       "          -1.        ],\n",
       "         [ 0.        ,  0.        ,  0.        ,  0.        ,  0.        ,\n",
       "           0.        ,  0.        , -0.        , -0.        , -0.        ,\n",
       "          -0.14285715, -0.        , -0.14285715, -0.42857143, -0.        ,\n",
       "          -0.        , -0.        , -0.2857143 , -0.14285715,  0.42857143,\n",
       "           0.        ,  0.        ,  0.        ,  0.        ,  0.        ,\n",
       "           0.        ,  0.        ,  0.        ,  0.        ,  0.        ,\n",
       "           0.        ,  0.        ,  0.        ,  0.        ,  0.        ,\n",
       "           0.        ,  0.        ,  0.        ,  0.        ,  0.        ,\n",
       "           0.        ,  0.        ,  0.        ,  0.        ,  0.        ,\n",
       "           0.        ,  0.        ,  0.        ,  0.        ,  0.        ,\n",
       "          -1.        ],\n",
       "         [ 0.        ,  0.        ,  0.        ,  0.        ,  0.        ,\n",
       "          -0.        , -0.        , -0.        , -0.        , -0.        ,\n",
       "          -0.        , -0.        , -0.        , -0.        , -0.        ,\n",
       "          -0.        , -0.        , -0.5       , -0.        , -0.        ,\n",
       "          -0.        , -0.        ,  0.        ,  0.        ,  0.        ,\n",
       "           0.        ,  0.        ,  0.        ,  0.        ,  0.        ,\n",
       "           0.        ,  0.        , -0.        , -0.        , -0.        ,\n",
       "          -0.        , -0.        , -0.        , -0.        ,  0.        ,\n",
       "           0.        ,  0.        ,  0.        ,  0.        ,  0.        ,\n",
       "           0.        ,  0.        ,  0.        ,  0.        ,  0.        ,\n",
       "          -1.        ],\n",
       "         [ 0.125     ,  0.125     ,  0.125     ,  0.125     ,  0.125     ,\n",
       "           0.125     ,  0.125     , -0.125     , -0.125     , -0.125     ,\n",
       "          -0.25      , -0.125     , -0.25      , -0.5       , -0.        ,\n",
       "          -0.        , -0.        , -0.375     , -0.25      ,  0.5       ,\n",
       "           0.125     ,  0.125     ,  0.125     ,  0.125     ,  0.125     ,\n",
       "           0.125     ,  0.125     ,  0.125     ,  0.125     ,  0.125     ,\n",
       "           0.125     ,  0.125     ,  0.125     ,  0.125     ,  0.125     ,\n",
       "           0.125     ,  0.125     ,  0.125     ,  0.125     ,  0.125     ,\n",
       "           0.125     ,  0.125     ,  0.125     ,  0.125     ,  0.125     ,\n",
       "           0.125     ,  0.125     ,  0.125     ,  0.125     ,  0.125     ,\n",
       "          -1.        ],\n",
       "         [ 0.3       ,  0.3       ,  0.3       ,  0.3       ,  0.3       ,\n",
       "           0.3       ,  0.3       , -0.3       , -0.3       , -0.3       ,\n",
       "          -0.4       , -0.3       , -0.4       , -0.6       , -0.        ,\n",
       "          -0.        , -0.        , -0.4       , -0.4       ,  0.6       ,\n",
       "           0.3       ,  0.3       ,  0.3       ,  0.3       ,  0.3       ,\n",
       "           0.3       ,  0.3       ,  0.3       ,  0.3       ,  0.3       ,\n",
       "           0.3       ,  0.3       ,  0.3       ,  0.3       ,  0.3       ,\n",
       "           0.3       ,  0.3       ,  0.3       ,  0.3       ,  0.3       ,\n",
       "           0.3       ,  0.3       ,  0.3       ,  0.3       ,  0.3       ,\n",
       "           0.3       ,  0.3       ,  0.3       ,  0.3       ,  0.3       ,\n",
       "          -1.        ]], dtype=float32)},\n",
       " 'is_cell_in_group': array([[1, 0, 1, 0, 0, 0, 0, 0, 0, 0],\n",
       "        [0, 1, 0, 1, 0, 0, 0, 0, 0, 0],\n",
       "        [1, 0, 1, 0, 0, 0, 0, 1, 0, 0],\n",
       "        [0, 1, 0, 1, 1, 0, 0, 0, 0, 0],\n",
       "        [1, 0, 1, 0, 0, 0, 0, 1, 0, 1],\n",
       "        [1, 1, 1, 1, 1, 0, 0, 1, 0, 1],\n",
       "        [0, 0, 0, 0, 0, 1, 1, 0, 0, 0],\n",
       "        [1, 1, 1, 1, 1, 0, 0, 1, 1, 1],\n",
       "        [1, 1, 1, 1, 1, 1, 1, 1, 1, 1]], dtype=int32)}"
      ]
     },
     "execution_count": 8,
     "metadata": {},
     "output_type": "execute_result"
    }
   ],
   "source": [
    "tree"
   ]
  },
  {
   "cell_type": "code",
   "execution_count": 7,
   "metadata": {},
   "outputs": [],
   "source": [
    "Z = tree['Z']"
   ]
  },
  {
   "cell_type": "code",
   "execution_count": 12,
   "metadata": {},
   "outputs": [
    {
     "data": {
      "text/plain": [
       "array([0., 2., 0., 2.], dtype=float32)"
      ]
     },
     "execution_count": 12,
     "metadata": {},
     "output_type": "execute_result"
    }
   ],
   "source": [
    "Z[0]"
   ]
  },
  {
   "cell_type": "code",
   "execution_count": 15,
   "metadata": {},
   "outputs": [],
   "source": [
    "Z = Z.astype(np.float64, copy=False)"
   ]
  },
  {
   "cell_type": "code",
   "execution_count": 19,
   "metadata": {},
   "outputs": [
    {
     "data": {
      "image/png": "[encoded data removed]",
      "text/plain": [
       "<Figure size 1800x720 with 1 Axes>"
      ]
     },
     "metadata": {},
     "output_type": "display_data"
    }
   ],
   "source": [
    "# calculate full dendrogram\n",
    "plt.figure(figsize=(25, 10))\n",
    "plt.title('Hierarchical Clustering Dendrogram')\n",
    "plt.xlabel('sample index')\n",
    "plt.ylabel('distance')\n",
    "dendrogram(\n",
    "    Z,\n",
    "    truncate_mode='lastp',\n",
    "    p=12,\n",
    "    leaf_rotation=90.,\n",
    "    leaf_font_size=12.,\n",
    "    show_contracted=True\n",
    ")\n",
    "plt.show()"
   ]
  },
  {
   "cell_type": "code",
   "execution_count": null,
   "metadata": {},
   "outputs": [],
   "source": []
  }
 ],
 "metadata": {
  "kernelspec": {
   "display_name": "Python 3",
   "language": "python",
   "name": "python3"
  },
  "language_info": {
   "codemirror_mode": {
    "name": "ipython",
    "version": 3
   },
   "file_extension": ".py",
   "mimetype": "text/x-python",
   "name": "python",
   "nbconvert_exporter": "python",
   "pygments_lexer": "ipython3",
   "version": "3.6.3"
  },
  "varInspector": {
   "cols": {
    "lenName": 16,
    "lenType": 16,
    "lenVar": 40
   },
   "kernels_config": {
    "python": {
     "delete_cmd_postfix": "",
     "delete_cmd_prefix": "del ",
     "library": "var_list.py",
     "varRefreshCmd": "print(var_dic_list())"
    },
    "r": {
     "delete_cmd_postfix": ") ",
     "delete_cmd_prefix": "rm(",
     "library": "var_list.r",
     "varRefreshCmd": "cat(var_dic_list()) "
    }
   },
   "types_to_exclude": [
    "module",
    "function",
    "builtin_function_or_method",
    "instance",
    "_Feature"
   ],
   "window_display": false
  }
 },
 "nbformat": 4,
 "nbformat_minor": 2
}
